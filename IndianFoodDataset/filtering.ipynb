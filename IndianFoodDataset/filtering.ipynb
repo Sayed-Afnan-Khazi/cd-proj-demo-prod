{
 "cells": [
  {
   "cell_type": "code",
   "execution_count": 1,
   "metadata": {
    "pycharm": {
     "name": "#%%\n"
    }
   },
   "outputs": [],
   "source": [
    "# Filtering the 6k Indian food dataset \n",
    "# This code can be integrated into dev.ipynb later if needed\n",
    "import pandas as pd"
   ]
  },
  {
   "cell_type": "code",
   "execution_count": 2,
   "metadata": {
    "pycharm": {
     "name": "#%%\n"
    }
   },
   "outputs": [
    {
     "data": {
      "text/plain": "       Srno                                         RecipeName  \\\n0         1                               Masala Karela Recipe   \n1         2  टमाटर पुलियोगरे रेसिपी - Spicy Tomato Rice (Re...   \n2         3  Ragi Semiya Upma Recipe - Ragi Millet Vermicel...   \n3         4  Gongura Chicken Curry Recipe - Andhra Style Go...   \n4         5  आंध्रा स्टाइल आलम पचड़ी रेसिपी - Adrak Chutney ...   \n...     ...                                                ...   \n6866  14073  गोअन मशरुम जकुटी रेसिपी - Goan Mushroom Xacuti...   \n6867  14107  शकरकंदी और मेथी का पराठा रेसिपी - Sweet Potato...   \n6868  14165      Ullikadala Pulusu Recipe | Spring Onion Curry   \n6869  14167  Kashmiri Style Kokur Yakhni Recipe-Chicken Coo...   \n6870  14211              नवरंग दाल रेसिपी - Navrang Dal Recipe   \n\n                                   TranslatedRecipeName  \\\n0                                  Masala Karela Recipe   \n1                            Spicy Tomato Rice (Recipe)   \n2     Ragi Semiya Upma Recipe - Ragi Millet Vermicel...   \n3     Gongura Chicken Curry Recipe - Andhra Style Go...   \n4     Andhra Style Alam Pachadi Recipe - Adrak Chutn...   \n...                                                 ...   \n6866                        Goan Mushroom Xacuti Recipe   \n6867        Sweet Potato & Methi Stuffed Paratha Recipe   \n6868      Ullikadala Pulusu Recipe | Spring Onion Curry   \n6869  Kashmiri Style Kokur Yakhni Recipe-Chicken Coo...   \n6870                                 Navrang Dal Recipe   \n\n                                            Ingredients  \\\n0     6 Karela (Bitter Gourd/ Pavakkai) - deseeded,S...   \n1     2-1/2 कप चावल - पका ले,3 टमाटर,3 छोटा चमच्च बी...   \n2     1-1/2 cups Rice Vermicelli Noodles (Thin),1 On...   \n3     500 grams Chicken,2 Onion - chopped,1 Tomato -...   \n4     1 बड़ा चमच्च चना दाल,1 बड़ा चमच्च सफ़ेद उरद दाल,2...   \n...                                                 ...   \n6866  20 बटन मशरुम,2 प्याज - काट ले,1 टमाटर - बारीक ...   \n6867  1 बड़ा चम्मच तेल,1 कप गेहूं का आटा,नमक - स्वाद ...   \n6868  150 grams Spring Onion (Bulb & Greens) - chopp...   \n6869  1 kg Chicken - medium pieces,1/2 cup Mustard o...   \n6870  2 बड़े चम्मच हरी मूंग दाल,2 बड़े चम्मच सफ़ेद उरद ...   \n\n                                  TranslatedIngredients  PrepTimeInMins  \\\n0     6 Karela (Bitter Gourd/ Pavakkai) - deseeded,S...              15   \n1     2-1 / 2 cups rice - cooked, 3 tomatoes, 3 teas...               5   \n2     1-1/2 cups Rice Vermicelli Noodles (Thin),1 On...              20   \n3     500 grams Chicken,2 Onion - chopped,1 Tomato -...              15   \n4     1 tablespoon chana dal, 1 tablespoon white ura...              10   \n...                                                 ...             ...   \n6866  20 बटन मशरुम,2 प्याज - काट ले,1 टमाटर - बारीक ...              15   \n6867  1 बड़ा चम्मच तेल,1 कप गेहूं का आटा,नमक - स्वाद ...              30   \n6868  150 grams Spring Onion (Bulb & Greens) - chopp...               5   \n6869  1 kg Chicken - medium pieces,1/2 cup Mustard o...              30   \n6870  2 बड़े चम्मच हरी मूंग दाल,2 बड़े चम्मच सफ़ेद उरद ...              10   \n\n      CookTimeInMins  TotalTimeInMins  Servings               Cuisine  \\\n0                 30               45         6                Indian   \n1                 10               15         3  South Indian Recipes   \n2                 30               50         4  South Indian Recipes   \n3                 30               45         4                Andhra   \n4                 20               30         4                Andhra   \n...              ...              ...       ...                   ...   \n6866              45               60         4          Goan Recipes   \n6867              60               90         4  North Indian Recipes   \n6868              10               15         2                Andhra   \n6869              45               75         4              Kashmiri   \n6870              30               40         4  North Indian Recipes   \n\n                      Course                     Diet  \\\n0                  Side Dish        Diabetic Friendly   \n1                Main Course               Vegetarian   \n2     South Indian Breakfast  High Protein Vegetarian   \n3                      Lunch           Non Vegeterian   \n4     South Indian Breakfast               Vegetarian   \n...                      ...                      ...   \n6866                   Lunch               Vegetarian   \n6867  North Indian Breakfast        Diabetic Friendly   \n6868               Side Dish               Vegetarian   \n6869                   Lunch           Non Vegeterian   \n6870                   Lunch  High Protein Vegetarian   \n\n                                           Instructions  \\\n0     To begin making the Masala Karela Recipe,de-se...   \n1     टमाटर पुलियोगरे बनाने के लिए सबसे पहले टमाटर क...   \n2     To begin making the Ragi Vermicelli Recipe, fi...   \n3     To begin making Gongura Chicken Curry Recipe f...   \n4     आंध्रा स्टाइल आलम पचड़ी बनाने के लिए सबसे पहले ...   \n...                                                 ...   \n6866  गोअन मशरुम जकुटी रेसिपी बनाने के लिए सबसे पहले...   \n6867  शकरकंदी और मेथी का पराठा रेसिपी बनाने के लिए स...   \n6868  To begin making Ullikadala Pulusu Recipe | Spr...   \n6869  To begin making the Kashmiri Kokur Yakhni reci...   \n6870  नवरंग दाल रेसिपी  बनाने के लिए सबसे पहले सारी ...   \n\n                                 TranslatedInstructions  \\\n0     To begin making the Masala Karela Recipe,de-se...   \n1     To make tomato puliogere, first cut the tomato...   \n2     To begin making the Ragi Vermicelli Recipe, fi...   \n3     To begin making Gongura Chicken Curry Recipe f...   \n4     To make Andhra Style Alam Pachadi, first heat ...   \n...                                                 ...   \n6866  गोअन मशरुम जकुटी रेसिपी बनाने के लिए सबसे पहले...   \n6867  शकरकंदी और मेथी का पराठा रेसिपी बनाने के लिए स...   \n6868  To begin making Ullikadala Pulusu Recipe | Spr...   \n6869  To begin making the Kashmiri Kokur Yakhni reci...   \n6870  नवरंग दाल रेसिपी  बनाने के लिए सबसे पहले सारी ...   \n\n                                                    URL  \n0     https://www.archanaskitchen.com/masala-karela-...  \n1     http://www.archanaskitchen.com/spicy-tomato-ri...  \n2     http://www.archanaskitchen.com/ragi-vermicelli...  \n3     http://www.archanaskitchen.com/gongura-chicken...  \n4     https://www.archanaskitchen.com/andhra-style-a...  \n...                                                 ...  \n6866  https://www.archanaskitchen.com/goan-mushroom-...  \n6867  https://www.archanaskitchen.com/sweet-potato-m...  \n6868  https://www.archanaskitchen.com/ullikadala-pul...  \n6869  http://www.archanaskitchen.com/kashmiri-kokur-...  \n6870  https://www.archanaskitchen.com/navrang-dal-re...  \n\n[6871 rows x 15 columns]",
      "text/html": "<div>\n<style scoped>\n    .dataframe tbody tr th:only-of-type {\n        vertical-align: middle;\n    }\n\n    .dataframe tbody tr th {\n        vertical-align: top;\n    }\n\n    .dataframe thead th {\n        text-align: right;\n    }\n</style>\n<table border=\"1\" class=\"dataframe\">\n  <thead>\n    <tr style=\"text-align: right;\">\n      <th></th>\n      <th>Srno</th>\n      <th>RecipeName</th>\n      <th>TranslatedRecipeName</th>\n      <th>Ingredients</th>\n      <th>TranslatedIngredients</th>\n      <th>PrepTimeInMins</th>\n      <th>CookTimeInMins</th>\n      <th>TotalTimeInMins</th>\n      <th>Servings</th>\n      <th>Cuisine</th>\n      <th>Course</th>\n      <th>Diet</th>\n      <th>Instructions</th>\n      <th>TranslatedInstructions</th>\n      <th>URL</th>\n    </tr>\n  </thead>\n  <tbody>\n    <tr>\n      <th>0</th>\n      <td>1</td>\n      <td>Masala Karela Recipe</td>\n      <td>Masala Karela Recipe</td>\n      <td>6 Karela (Bitter Gourd/ Pavakkai) - deseeded,S...</td>\n      <td>6 Karela (Bitter Gourd/ Pavakkai) - deseeded,S...</td>\n      <td>15</td>\n      <td>30</td>\n      <td>45</td>\n      <td>6</td>\n      <td>Indian</td>\n      <td>Side Dish</td>\n      <td>Diabetic Friendly</td>\n      <td>To begin making the Masala Karela Recipe,de-se...</td>\n      <td>To begin making the Masala Karela Recipe,de-se...</td>\n      <td>https://www.archanaskitchen.com/masala-karela-...</td>\n    </tr>\n    <tr>\n      <th>1</th>\n      <td>2</td>\n      <td>टमाटर पुलियोगरे रेसिपी - Spicy Tomato Rice (Re...</td>\n      <td>Spicy Tomato Rice (Recipe)</td>\n      <td>2-1/2 कप चावल - पका ले,3 टमाटर,3 छोटा चमच्च बी...</td>\n      <td>2-1 / 2 cups rice - cooked, 3 tomatoes, 3 teas...</td>\n      <td>5</td>\n      <td>10</td>\n      <td>15</td>\n      <td>3</td>\n      <td>South Indian Recipes</td>\n      <td>Main Course</td>\n      <td>Vegetarian</td>\n      <td>टमाटर पुलियोगरे बनाने के लिए सबसे पहले टमाटर क...</td>\n      <td>To make tomato puliogere, first cut the tomato...</td>\n      <td>http://www.archanaskitchen.com/spicy-tomato-ri...</td>\n    </tr>\n    <tr>\n      <th>2</th>\n      <td>3</td>\n      <td>Ragi Semiya Upma Recipe - Ragi Millet Vermicel...</td>\n      <td>Ragi Semiya Upma Recipe - Ragi Millet Vermicel...</td>\n      <td>1-1/2 cups Rice Vermicelli Noodles (Thin),1 On...</td>\n      <td>1-1/2 cups Rice Vermicelli Noodles (Thin),1 On...</td>\n      <td>20</td>\n      <td>30</td>\n      <td>50</td>\n      <td>4</td>\n      <td>South Indian Recipes</td>\n      <td>South Indian Breakfast</td>\n      <td>High Protein Vegetarian</td>\n      <td>To begin making the Ragi Vermicelli Recipe, fi...</td>\n      <td>To begin making the Ragi Vermicelli Recipe, fi...</td>\n      <td>http://www.archanaskitchen.com/ragi-vermicelli...</td>\n    </tr>\n    <tr>\n      <th>3</th>\n      <td>4</td>\n      <td>Gongura Chicken Curry Recipe - Andhra Style Go...</td>\n      <td>Gongura Chicken Curry Recipe - Andhra Style Go...</td>\n      <td>500 grams Chicken,2 Onion - chopped,1 Tomato -...</td>\n      <td>500 grams Chicken,2 Onion - chopped,1 Tomato -...</td>\n      <td>15</td>\n      <td>30</td>\n      <td>45</td>\n      <td>4</td>\n      <td>Andhra</td>\n      <td>Lunch</td>\n      <td>Non Vegeterian</td>\n      <td>To begin making Gongura Chicken Curry Recipe f...</td>\n      <td>To begin making Gongura Chicken Curry Recipe f...</td>\n      <td>http://www.archanaskitchen.com/gongura-chicken...</td>\n    </tr>\n    <tr>\n      <th>4</th>\n      <td>5</td>\n      <td>आंध्रा स्टाइल आलम पचड़ी रेसिपी - Adrak Chutney ...</td>\n      <td>Andhra Style Alam Pachadi Recipe - Adrak Chutn...</td>\n      <td>1 बड़ा चमच्च चना दाल,1 बड़ा चमच्च सफ़ेद उरद दाल,2...</td>\n      <td>1 tablespoon chana dal, 1 tablespoon white ura...</td>\n      <td>10</td>\n      <td>20</td>\n      <td>30</td>\n      <td>4</td>\n      <td>Andhra</td>\n      <td>South Indian Breakfast</td>\n      <td>Vegetarian</td>\n      <td>आंध्रा स्टाइल आलम पचड़ी बनाने के लिए सबसे पहले ...</td>\n      <td>To make Andhra Style Alam Pachadi, first heat ...</td>\n      <td>https://www.archanaskitchen.com/andhra-style-a...</td>\n    </tr>\n    <tr>\n      <th>...</th>\n      <td>...</td>\n      <td>...</td>\n      <td>...</td>\n      <td>...</td>\n      <td>...</td>\n      <td>...</td>\n      <td>...</td>\n      <td>...</td>\n      <td>...</td>\n      <td>...</td>\n      <td>...</td>\n      <td>...</td>\n      <td>...</td>\n      <td>...</td>\n      <td>...</td>\n    </tr>\n    <tr>\n      <th>6866</th>\n      <td>14073</td>\n      <td>गोअन मशरुम जकुटी रेसिपी - Goan Mushroom Xacuti...</td>\n      <td>Goan Mushroom Xacuti Recipe</td>\n      <td>20 बटन मशरुम,2 प्याज - काट ले,1 टमाटर - बारीक ...</td>\n      <td>20 बटन मशरुम,2 प्याज - काट ले,1 टमाटर - बारीक ...</td>\n      <td>15</td>\n      <td>45</td>\n      <td>60</td>\n      <td>4</td>\n      <td>Goan Recipes</td>\n      <td>Lunch</td>\n      <td>Vegetarian</td>\n      <td>गोअन मशरुम जकुटी रेसिपी बनाने के लिए सबसे पहले...</td>\n      <td>गोअन मशरुम जकुटी रेसिपी बनाने के लिए सबसे पहले...</td>\n      <td>https://www.archanaskitchen.com/goan-mushroom-...</td>\n    </tr>\n    <tr>\n      <th>6867</th>\n      <td>14107</td>\n      <td>शकरकंदी और मेथी का पराठा रेसिपी - Sweet Potato...</td>\n      <td>Sweet Potato &amp; Methi Stuffed Paratha Recipe</td>\n      <td>1 बड़ा चम्मच तेल,1 कप गेहूं का आटा,नमक - स्वाद ...</td>\n      <td>1 बड़ा चम्मच तेल,1 कप गेहूं का आटा,नमक - स्वाद ...</td>\n      <td>30</td>\n      <td>60</td>\n      <td>90</td>\n      <td>4</td>\n      <td>North Indian Recipes</td>\n      <td>North Indian Breakfast</td>\n      <td>Diabetic Friendly</td>\n      <td>शकरकंदी और मेथी का पराठा रेसिपी बनाने के लिए स...</td>\n      <td>शकरकंदी और मेथी का पराठा रेसिपी बनाने के लिए स...</td>\n      <td>https://www.archanaskitchen.com/sweet-potato-m...</td>\n    </tr>\n    <tr>\n      <th>6868</th>\n      <td>14165</td>\n      <td>Ullikadala Pulusu Recipe | Spring Onion Curry</td>\n      <td>Ullikadala Pulusu Recipe | Spring Onion Curry</td>\n      <td>150 grams Spring Onion (Bulb &amp; Greens) - chopp...</td>\n      <td>150 grams Spring Onion (Bulb &amp; Greens) - chopp...</td>\n      <td>5</td>\n      <td>10</td>\n      <td>15</td>\n      <td>2</td>\n      <td>Andhra</td>\n      <td>Side Dish</td>\n      <td>Vegetarian</td>\n      <td>To begin making Ullikadala Pulusu Recipe | Spr...</td>\n      <td>To begin making Ullikadala Pulusu Recipe | Spr...</td>\n      <td>https://www.archanaskitchen.com/ullikadala-pul...</td>\n    </tr>\n    <tr>\n      <th>6869</th>\n      <td>14167</td>\n      <td>Kashmiri Style Kokur Yakhni Recipe-Chicken Coo...</td>\n      <td>Kashmiri Style Kokur Yakhni Recipe-Chicken Coo...</td>\n      <td>1 kg Chicken - medium pieces,1/2 cup Mustard o...</td>\n      <td>1 kg Chicken - medium pieces,1/2 cup Mustard o...</td>\n      <td>30</td>\n      <td>45</td>\n      <td>75</td>\n      <td>4</td>\n      <td>Kashmiri</td>\n      <td>Lunch</td>\n      <td>Non Vegeterian</td>\n      <td>To begin making the Kashmiri Kokur Yakhni reci...</td>\n      <td>To begin making the Kashmiri Kokur Yakhni reci...</td>\n      <td>http://www.archanaskitchen.com/kashmiri-kokur-...</td>\n    </tr>\n    <tr>\n      <th>6870</th>\n      <td>14211</td>\n      <td>नवरंग दाल रेसिपी - Navrang Dal Recipe</td>\n      <td>Navrang Dal Recipe</td>\n      <td>2 बड़े चम्मच हरी मूंग दाल,2 बड़े चम्मच सफ़ेद उरद ...</td>\n      <td>2 बड़े चम्मच हरी मूंग दाल,2 बड़े चम्मच सफ़ेद उरद ...</td>\n      <td>10</td>\n      <td>30</td>\n      <td>40</td>\n      <td>4</td>\n      <td>North Indian Recipes</td>\n      <td>Lunch</td>\n      <td>High Protein Vegetarian</td>\n      <td>नवरंग दाल रेसिपी  बनाने के लिए सबसे पहले सारी ...</td>\n      <td>नवरंग दाल रेसिपी  बनाने के लिए सबसे पहले सारी ...</td>\n      <td>https://www.archanaskitchen.com/navrang-dal-re...</td>\n    </tr>\n  </tbody>\n</table>\n<p>6871 rows × 15 columns</p>\n</div>"
     },
     "execution_count": 2,
     "metadata": {},
     "output_type": "execute_result"
    }
   ],
   "source": [
    "# Importing dataset into the workspace\n",
    "globals()['IndianRecipes'] = pd.read_csv(\"IndianFoodDatasetCSV.csv\")\n",
    "# Displaying\n",
    "IndianRecipes"
   ]
  },
  {
   "cell_type": "code",
   "execution_count": 3,
   "metadata": {
    "pycharm": {
     "name": "#%%\n"
    }
   },
   "outputs": [
    {
     "data": {
      "text/plain": "['wheat',\n 'wheatberries',\n 'durum',\n 'emmer',\n 'semolina',\n 'spelt',\n 'farina',\n 'farro',\n 'graham',\n 'Rye',\n 'Barley',\n 'Triticale',\n 'Malt',\n \"Brewer's Yeast\",\n 'pasta',\n 'raviolis',\n 'dumplings',\n 'couscous',\n 'gnocchi',\n 'noodles',\n 'ramen',\n 'udon',\n 'soba',\n 'chow mein',\n 'egg noodles',\n 'croissant',\n 'pita',\n 'naan',\n 'bagel',\n 'flatbread',\n 'cornbread',\n 'potato bread',\n 'muffins',\n 'donuts',\n 'rolls',\n 'pretzels',\n 'goldfish',\n 'graham crackers',\n 'cake',\n 'cakes',\n 'cookies',\n 'pie crusts',\n 'brownies',\n 'corn flakes',\n 'rice puffs',\n 'pancakes',\n 'waffles',\n 'french toast',\n 'crepes',\n 'biscuit',\n 'biscuits',\n 'panko breadcrumbs',\n 'soy sauce',\n 'flour tortillas',\n 'beer']"
     },
     "execution_count": 3,
     "metadata": {},
     "output_type": "execute_result"
    }
   ],
   "source": [
    "# Source: https://celiac.org/gluten-free-living/what-is-gluten/sources-of-gluten/\n",
    "glutenContainingIngredients = [\"wheat\",\"wheatberries\",\"durum\",\"emmer\",\"semolina\",\"spelt\",\"farina\",\"farro\",\"graham\",\"Rye\",\"Barley\",\"Triticale\",\"Malt\",\"Brewer's Yeast\"]\n",
    "part2 = [\"pasta\", \"raviolis\", \"dumplings\", \"couscous\", \"gnocchi\", \"noodles\", \"ramen\", \"udon\", \"soba\", \"chow mein\", \"egg noodles\", \"croissant\", \"pita\", \"naan\", \"bagel\", \"flatbread\", \"cornbread\", \"potato bread\", \"muffins\", \"donuts\", \"rolls\", \"pretzels\", \"goldfish\", \"graham crackers\", \"cake\",\"cakes\", \"cookies\", \"pie crusts\", \"brownies\", \"corn flakes\", \"rice puffs\", \"pancakes\", \"waffles\", \"french toast\", \"crepes\", \"biscuit\",\"biscuits\", \"panko breadcrumbs\", \"soy sauce\", \"flour tortillas\", \"beer\"]\n",
    "glutenContainingIngredients += part2\n",
    "\n",
    "glutenContainingIngredients"
   ]
  },
  {
   "cell_type": "code",
   "execution_count": 4,
   "metadata": {
    "pycharm": {
     "name": "#%%\n"
    }
   },
   "outputs": [
    {
     "name": "stdout",
     "output_type": "stream",
     "text": [
      "               Srno  PrepTimeInMins  CookTimeInMins  TotalTimeInMins  \\\n",
      "count   6871.000000     6871.000000     6871.000000      6871.000000   \n",
      "mean    4902.979042       28.585213       30.832339        59.417552   \n",
      "std     3479.531022       81.042007       34.019694        88.699940   \n",
      "min        1.000000        0.000000        0.000000         0.000000   \n",
      "25%     1955.500000       10.000000       20.000000        30.000000   \n",
      "50%     4304.000000       15.000000       30.000000        40.000000   \n",
      "75%     7363.000000       20.000000       35.000000        55.000000   \n",
      "max    14211.000000     2880.000000      900.000000      2925.000000   \n",
      "\n",
      "          Servings  \n",
      "count  6871.000000  \n",
      "mean      5.611410  \n",
      "std      26.221807  \n",
      "min       1.000000  \n",
      "25%       4.000000  \n",
      "50%       4.000000  \n",
      "75%       4.000000  \n",
      "max    1000.000000  \n"
     ]
    }
   ],
   "source": [
    "print(IndianRecipes.describe())"
   ]
  },
  {
   "cell_type": "code",
   "execution_count": 5,
   "outputs": [
    {
     "name": "stdout",
     "output_type": "stream",
     "text": [
      "<class 'pandas.core.frame.DataFrame'>\n",
      "RangeIndex: 6871 entries, 0 to 6870\n",
      "Data columns (total 15 columns):\n",
      " #   Column                  Non-Null Count  Dtype \n",
      "---  ------                  --------------  ----- \n",
      " 0   Srno                    6871 non-null   int64 \n",
      " 1   RecipeName              6871 non-null   object\n",
      " 2   TranslatedRecipeName    6871 non-null   object\n",
      " 3   Ingredients             6865 non-null   object\n",
      " 4   TranslatedIngredients   6865 non-null   object\n",
      " 5   PrepTimeInMins          6871 non-null   int64 \n",
      " 6   CookTimeInMins          6871 non-null   int64 \n",
      " 7   TotalTimeInMins         6871 non-null   int64 \n",
      " 8   Servings                6871 non-null   int64 \n",
      " 9   Cuisine                 6871 non-null   object\n",
      " 10  Course                  6871 non-null   object\n",
      " 11  Diet                    6871 non-null   object\n",
      " 12  Instructions            6871 non-null   object\n",
      " 13  TranslatedInstructions  6871 non-null   object\n",
      " 14  URL                     6871 non-null   object\n",
      "dtypes: int64(5), object(10)\n",
      "memory usage: 805.3+ KB\n"
     ]
    }
   ],
   "source": [
    "IndianRecipes.info()"
   ],
   "metadata": {
    "collapsed": false,
    "pycharm": {
     "name": "#%%\n"
    }
   }
  },
  {
   "cell_type": "code",
   "execution_count": 6,
   "outputs": [
    {
     "name": "stdout",
     "output_type": "stream",
     "text": [
      "CONTAINS GLUTEN! 10 10 Rye  1 teaspoon Rye\n",
      "CONTAINS GLUTEN! 16 16 Rye  as per taste Rye\n",
      "CONTAINS GLUTEN! 28 31 pasta 1 tablespoon Roasted tomato pasta sauce\n",
      "CONTAINS GLUTEN! 66 74 noodles 250 grams Egg noodles - boiled and tossed in a teaspoon oil\n",
      "CONTAINS GLUTEN! 82 91 soy sauce 1 tablespoon Dark soy sauce\n",
      "CONTAINS GLUTEN! 84 93 wheat  1 cup wheat flour\n",
      "CONTAINS GLUTEN! 85 94 Rye  1-1 / 2 teaspoon Rye\n",
      "CONTAINS GLUTEN! 86 95 noodles 200 grams rice noodles\n",
      "CONTAINS GLUTEN! 129 139 biscuit 8 Oreo biscuits - broken into pieces\n",
      "CONTAINS GLUTEN! 134 144 pasta 1 tablespoon Roasted tomato pasta sauce\n",
      "CONTAINS GLUTEN! 159 171 pasta 1 tablespoon Roasted tomato pasta sauce - or store bought\n",
      "CONTAINS GLUTEN! 236 251 wheat  1 tablespoon wheat flour\n",
      "CONTAINS GLUTEN! 253 271 Barley 3/4 cup Barley flour\n",
      "CONTAINS GLUTEN! 259 277 Barley 1 cup Barley (seeds) - soaked for 2-6 hours\n",
      "CONTAINS GLUTEN! 271 289 soy sauce 2 teaspoon Light soy sauce\n",
      "CONTAINS GLUTEN! 347 372 wheat  1 cup wheat flour\n",
      "CONTAINS GLUTEN! 359 384 biscuit 250 grams Digestive biscuit\n",
      "CONTAINS GLUTEN! 394 420 noodles 200 grams Egg noodles - boiled\n",
      "CONTAINS GLUTEN! 406 435 Rye  1 teaspoon Rye - powder\n",
      "CONTAINS GLUTEN! 415 444 soy sauce  1 teaspoon soy sauce\n",
      "CONTAINS GLUTEN! 428 458 soy sauce 2 tablespoons Dark soy sauce\n",
      "CONTAINS GLUTEN! 494 533 soy sauce 1 tablespoon Light soy sauce\n",
      "CONTAINS GLUTEN! 517 558 noodles 1 cup Egg noodles - boiled\n",
      "CONTAINS GLUTEN! 521 563 soy sauce  1/2 tsp soy sauce\n",
      "CONTAINS GLUTEN! 527 569 pasta 1/4 cup Roasted tomato pasta sauce\n",
      "CONTAINS GLUTEN! 572 619 semolina 2 cups Sooji (Semolina/ Rava) - semolina\n",
      "CONTAINS GLUTEN! 590 638 noodles  black pepper powder - 200 grams of Hakka noodles\n",
      "CONTAINS GLUTEN! 597 645 wheat 1 cups All Purpose Flour (Maida) - or wheat flour\n",
      "CONTAINS GLUTEN! 599 647 wheat 1 cup wheat flour\n",
      "CONTAINS GLUTEN! 631 683 Malt 1-2 teaspoons Malt vinegar\n",
      "CONTAINS GLUTEN! 671 725 wheat 100 grams Buckwheat Flour (Kuttu Ka Atta)\n",
      "CONTAINS GLUTEN! 699 756 pasta 1 cup Penne pasta - optional\n",
      "CONTAINS GLUTEN! 701 758 pasta 200 grams Penne pasta\n",
      "CONTAINS GLUTEN! 702 759 pasta 2 teaspoons Roasted tomato pasta sauce\n",
      "CONTAINS GLUTEN! 769 838 noodles 1 cup Udon noodles - cooked\n",
      "CONTAINS GLUTEN! 775 846 pasta 300 grams Spirali pasta\n",
      "CONTAINS GLUTEN! 780 853 cake 8 Sponge cake slice\n",
      "CONTAINS GLUTEN! 815 892 pasta 3/4 cup Orzo pasta - cooked\n",
      "CONTAINS GLUTEN! 846 925 cake Sunflower Oil - to grease the cake tin\n",
      "CONTAINS GLUTEN! 869 954 crepes Ghee - or refined sunflower oil to roast the crepes\n",
      "CONTAINS GLUTEN! 871 956 wheat 11/4 cup Buckwheat Flour (Kuttu Ka Atta)\n",
      "CONTAINS GLUTEN! 874 959 pasta 1 cup Penne pasta\n",
      "CONTAINS GLUTEN! 893 981 Rye  1 teaspoon Rye\n",
      "CONTAINS GLUTEN! 918 1011 pasta 2 cups pasta - GT\n",
      "CONTAINS GLUTEN! 921 1014 noodles 250 grams Pasta - egg noodles\n",
      "CONTAINS GLUTEN! 929 1024 pasta 2 cups Macaroni pasta\n",
      "CONTAINS GLUTEN! 930 1025 soy sauce 1 teaspoon Dark soy sauce\n",
      "CONTAINS GLUTEN! 932 1027 soy sauce 1 teaspoon Dark soy sauce\n",
      "CONTAINS GLUTEN! 948 1047 wheat 2-1/2 cup Vivatta Maida - or use whole wheat flour\n",
      "CONTAINS GLUTEN! 963 1067 wheat  1 cup wheat flour\n",
      "CONTAINS GLUTEN! 981 1086 pasta 2 tablespoons Roasted tomato pasta sauce\n",
      "CONTAINS GLUTEN! 1019 1127 cake Strawberry Cake - A 9-inch strawberry cake\n",
      "CONTAINS GLUTEN! 1044 1156 pasta 1 cup Route Pasta -  Del Monte Ruote pasta\n",
      "CONTAINS GLUTEN! 1062 1178 Rye  1 tomato - finely chopped / 2 teaspoon Rye\n",
      "CONTAINS GLUTEN! 1070 1187 rolls 4 Whole Wheat Tawa Paratha - made into round large sizes for rolls\n",
      "CONTAINS GLUTEN! 1092 1210 noodles 1 cup Egg noodles - (250 grams packet)\n",
      "CONTAINS GLUTEN! 1126 1250 pasta 1 teaspoon Roasted tomato pasta sauce\n",
      "CONTAINS GLUTEN! 1131 1256 biscuit 1 1/2 cups Digestive biscuit - crushed\n",
      "CONTAINS GLUTEN! 1143 1269 pasta 3 tablespoons Roasted tomato pasta sauce\n",
      "CONTAINS GLUTEN! 1182 1317 pasta 250 grams Penne pasta - or any other small pasta\n",
      "CONTAINS GLUTEN! 1196 1333 pasta 1 cup Macaroni pasta - or vermicelli\n",
      "CONTAINS GLUTEN! 1201 1339 wheat 250 grams Pasta - whole wheat\n",
      "CONTAINS GLUTEN! 1257 1407 soy sauce 1 tablespoon Dark soy sauce\n",
      "CONTAINS GLUTEN! 1265 1415 noodles 1 Beetroot - spiralized to thin noodles\n",
      "CONTAINS GLUTEN! 1301 1457 wheat 1 Pizza base - whole wheat\n",
      "CONTAINS GLUTEN! 1314 1472 wheat 10 Phulka - Vivatta whole wheat flour\n",
      "CONTAINS GLUTEN! 1321 1482 wheat 1 cup Buckwheat Flour (Kuttu Ka Atta)\n",
      "CONTAINS GLUTEN! 1350 1516 noodles 1 tablespoon Sunflower Oil - for air frying the noodles\n",
      "CONTAINS GLUTEN! 1422 1592 semolina Corn meal - or semolina for dusting\n",
      "CONTAINS GLUTEN! 1428 1598 soy sauce 1 tablespoon Dark soy sauce\n",
      "CONTAINS GLUTEN! 1515 1706 wheat 2 Tortillas - (wheat/regular)\n",
      "CONTAINS GLUTEN! 1523 1714 pasta 300 grams Spaghetti Pasta - or any pasta of your choice (Penne\n",
      "CONTAINS GLUTEN! 1530 1722 pasta 1 cup Penne pasta\n",
      "CONTAINS GLUTEN! 1550 1746 wheat 1 cup wheat flour\n",
      "CONTAINS GLUTEN! 1564 1764 noodles 1 Egg noodles\n",
      "CONTAINS GLUTEN! 1597 1805 semolina 1 cup semolina\n",
      "CONTAINS GLUTEN! 1614 1826 Malt 200 grams Maltesers\n",
      "CONTAINS GLUTEN! 1619 1832 pasta 400 grams Macaroni pasta\n",
      "CONTAINS GLUTEN! 1620 1834 noodles 400 grams Rice noodles - thin\n",
      "CONTAINS GLUTEN! 1653 1875 biscuit 250 grams Bourbon Biscuits - or any other biscuits of your choice\n",
      "CONTAINS GLUTEN! 1659 1883 pasta 250 grams Macaroni pasta\n",
      "CONTAINS GLUTEN! 1672 1900 semolina 1 cup semolina\n",
      "CONTAINS GLUTEN! 1710 1945 wheat 1/2 cup Pasta - whole wheat rotini\n",
      "CONTAINS GLUTEN! 1718 1955 soy sauce 2 tablespoon Light soy sauce\n",
      "CONTAINS GLUTEN! 1732 1975 wheat 12 Whole Wheat Brown Bread - whole wheat\n",
      "CONTAINS GLUTEN! 1820 2088 wheat 2 Cups Penne pasta - (I used whole wheat pasta)\n",
      "CONTAINS GLUTEN! 1932 2219 wheat 3-4 Corn flour tortilla - or whole wheat tortilla\n",
      "CONTAINS GLUTEN! 1943 2231 pasta  1/2 cup pasta - whole vet\n",
      "CONTAINS GLUTEN! 1947 2236 pasta 2-1/2 cups Penne pasta\n",
      "CONTAINS GLUTEN! 1998 2294 Barley 1/3 cup Barley (seeds) - soaked in water\n",
      "CONTAINS GLUTEN! 2013 2310 rolls Rice paper rolls - as needed\n",
      "CONTAINS GLUTEN! 2047 2351 wheat 4 Whole Wheat Brown Bread - whole wheat\n",
      "CONTAINS GLUTEN! 2050 2355 cookies  4 ragi cookies - break\n",
      "CONTAINS GLUTEN! 2069 2381 Rye 8 Rye Bread - slices\n",
      "CONTAINS GLUTEN! 2079 2395 semolina  2 tbsp semolina\n",
      "CONTAINS GLUTEN! 2101 2422 pasta 1 tablespoon Roasted tomato pasta sauce\n",
      "CONTAINS GLUTEN! 2107 2430 pasta 250 grams Penne pasta - (quinoa based)\n",
      "CONTAINS GLUTEN! 2130 2459 Barley 1 tablespoon Barley (seeds)\n",
      "CONTAINS GLUTEN! 2175 2512 wheat 1-1/2 cup All Purpose Flour (Maida) - or whole wheat flour\n",
      "CONTAINS GLUTEN! 2180 2518 semolina  1/2 cup semolina\n",
      "CONTAINS GLUTEN! 2189 2530 soy sauce 1/2 tablespoon Light soy sauce\n",
      "CONTAINS GLUTEN! 2202 2543 pasta 300 grams Tagliatelle pasta\n",
      "CONTAINS GLUTEN! 2211 2558 wheat 1 cup Bulgur wheat - organic\n",
      "CONTAINS GLUTEN! 2212 2560 naan Butter - to smear on the naans\n",
      "CONTAINS GLUTEN! 2243 2597 Rye  1/2 teaspoon Rye\n",
      "CONTAINS GLUTEN! 2245 2599 noodles 300 grams Egg noodles - cooked until firm\n",
      "CONTAINS GLUTEN! 2246 2600 pasta 300 grams Spaghetti Pasta - or any other pasta\n",
      "CONTAINS GLUTEN! 2276 2634 wheat 2 cups wheat flour\n",
      "CONTAINS GLUTEN! 2288 2650 soy sauce 2 teaspoon Light soy sauce\n",
      "CONTAINS GLUTEN! 2292 2654 wheat  1/2 cup wheat flour - 1 teaspoon red chilli powder\n",
      "CONTAINS GLUTEN! 2315 2686 wheat 1-1 / 2 cup wheat flour\n",
      "CONTAINS GLUTEN! 2384 2786 biscuit 1 1/2 cup Digestive biscuit - crushed\n",
      "CONTAINS GLUTEN! 2401 2809 biscuit 150 grams Digestive biscuit\n",
      "CONTAINS GLUTEN! 2419 2830 noodles 2 Green zucchini - spiralized into thin noodles\n",
      "CONTAINS GLUTEN! 2442 2862 pasta 300 Grams Penne pasta - or any other pasta of your choice\n",
      "CONTAINS GLUTEN! 2478 2906 pasta 300 grams Penne pasta\n",
      "CONTAINS GLUTEN! 2489 2924 pasta 250 grams Penne pasta - or any pasta of your choice\n",
      "CONTAINS GLUTEN! 2491 2927 biscuit 1 1/2 cups Digestive biscuit - crumbled into a coarse powder\n",
      "CONTAINS GLUTEN! 2570 3041 soy sauce 1 tablespoon Light soy sauce\n",
      "CONTAINS GLUTEN! 2572 3043 wheat 1 cup Buckwheat Flour (Kuttu Ka Atta)\n",
      "CONTAINS GLUTEN! 2588 3063 wheat 2 cups Whole Wheat Flour - 2 cups whole wheat flour\n",
      "CONTAINS GLUTEN! 2618 3104 soy sauce 1 teaspoon Light soy sauce\n",
      "CONTAINS GLUTEN! 2638 3130 Barley 1 cup Barley (seeds)\n",
      "CONTAINS GLUTEN! 2669 3179 semolina  1 cup semolina\n",
      "CONTAINS GLUTEN! 2687 3213 soy sauce 1 teaspoon Dark soy sauce\n",
      "CONTAINS GLUTEN! 2717 3262 Rye  1 teaspoon Rye\n",
      "CONTAINS GLUTEN! 2720 3267 Barley 2 tablespoons Barley (seeds)\n",
      "CONTAINS GLUTEN! 2749 3304 soy sauce 1 tablespoon Dark soy sauce\n",
      "CONTAINS GLUTEN! 2773 3336 pasta  1/2 cup pasta - (penne)\n",
      "CONTAINS GLUTEN! 2796 3370 soy sauce 2 tablespoon Light soy sauce\n",
      "CONTAINS GLUTEN! 2809 3385 Rye  1 teaspoon Rye\n",
      "CONTAINS GLUTEN! 2870 3470 rolls 8 Rice paper rolls\n",
      "CONTAINS GLUTEN! 2882 3490 pita 6 Mini Pita Breads - (I used tortilla instead of pita bread)\n",
      "CONTAINS GLUTEN! 2911 3528 wheat 4 Phulka - (Made of Vivatta whole wheat flour chakki atta)\n",
      "CONTAINS GLUTEN! 2926 3547 pasta 300 grams Penne pasta\n",
      "CONTAINS GLUTEN! 2935 3557 Barley 1/2 cup Barley (seeds)\n",
      "CONTAINS GLUTEN! 2947 3576 wheat 1/2 cup Bulgur wheat - cooked\n",
      "CONTAINS GLUTEN! 2963 3599 wheat 350 grams Spaghetti Pasta - (wheat pasta)\n",
      "CONTAINS GLUTEN! 3026 3688 cake 4 tablespoon Orange marmalade jam - to drizzle/brush on the cake\n",
      "CONTAINS GLUTEN! 3036 3705 Rye 4 Rye Bread - or any other whole meal bread\n",
      "CONTAINS GLUTEN! 3045 3718 rolls 4 French bread - rolls\n",
      "CONTAINS GLUTEN! 3065 3746 pasta 300 grams Penne pasta - or any other pasta of your choice\n",
      "CONTAINS GLUTEN! 3075 3757 noodles 1 cup Udon noodles - boiled\n",
      "CONTAINS GLUTEN! 3105 3797 pasta 1 cup Pasta  Fusilli - or any pasta you like\n",
      "CONTAINS GLUTEN! 3107 3800 biscuit 12 Digestive biscuit\n",
      "CONTAINS GLUTEN! 3117 3816 soy sauce 2 teaspoons Dark soy sauce\n",
      "CONTAINS GLUTEN! 3121 3823 cookies 16 Nilla cookies\n",
      "CONTAINS GLUTEN! 3181 3906 noodles 1/2 cup Rice noodles\n",
      "CONTAINS GLUTEN! 3195 3928 wheat 1/2 cup Whole Wheat Flour - (I used organic wheat flour)\n",
      "CONTAINS GLUTEN! 3198 3934 wheat 4 cups wheat flour\n",
      "CONTAINS GLUTEN! 3199 3935 naan Ghee - for smearing on naan\n",
      "CONTAINS GLUTEN! 3210 3957 Rye  1 teaspoon Rye\n",
      "CONTAINS GLUTEN! 3213 3962 pasta 225 grams Spirali pasta\n",
      "CONTAINS GLUTEN! 3218 3967 Rye  1 teaspoon Rye\n",
      "CONTAINS GLUTEN! 3247 4003 wheat 2 cups wheat flour\n",
      "CONTAINS GLUTEN! 3254 4013 Rye  1 teaspoon Rye\n",
      "CONTAINS GLUTEN! 3275 4044 wheat 450 grams Penne pasta - (I used whole wheat pasta)\n",
      "CONTAINS GLUTEN! 3345 4150 wheat 1 cup wheat flour\n",
      "CONTAINS GLUTEN! 3380 4218 biscuit 1 1/2 cups Chocolate wafers - or coffee flavoured wafer biscuits\n",
      "CONTAINS GLUTEN! 3385 4226 cookies 3/4 cup Sugar - powdered sugar for coating the cookies\n",
      "CONTAINS GLUTEN! 3406 4260 pasta 300 grams Penne pasta\n",
      "CONTAINS GLUTEN! 3410 4265 wheat 6 Whole Wheat Brown Bread - whole wheat\n",
      "CONTAINS GLUTEN! 3428 4291 pasta Roasted tomato pasta sauce - as needed\n",
      "CONTAINS GLUTEN! 3437 4305 cake 1 cup All Purpose Flour (Maida) - (Or cake flour)\n",
      "CONTAINS GLUTEN! 3445 4315 biscuit 6 tablespoons Oreo biscuits - finely ground\n",
      "CONTAINS GLUTEN! 3447 4320 wheat 1 cup Buckwheat Flour (Kuttu Ka Atta)\n",
      "CONTAINS GLUTEN! 3466 4348 pasta 1 cup Tagliatelle pasta\n",
      "CONTAINS GLUTEN! 3479 4369 wheat 4 Whole Wheat Pita Bread - 4 whole wheat pita bread (4-5 inch)\n",
      "CONTAINS GLUTEN! 3508 4417 pasta 250 grams Penne pasta - of your choice\n",
      "CONTAINS GLUTEN! 3512 4422 pasta 1 cup Penne pasta\n",
      "CONTAINS GLUTEN! 3550 4487 soy sauce 2 tablespoon Dark soy sauce\n",
      "CONTAINS GLUTEN! 3598 4562 biscuit 7-8 Bourbon Biscuits - (or hide and seek biscuits)\n",
      "CONTAINS GLUTEN! 3626 4610 noodles 2 cups Wheat Noodles - or rice noodles boiled\n",
      "CONTAINS GLUTEN! 3713 4756 wheat 1 Pizza base - or whole wheat pizza\n",
      "CONTAINS GLUTEN! 3733 4787 semolina 1-1 / 2 cup semolina\n",
      "CONTAINS GLUTEN! 3755 4823 noodles 100 grams Rice noodles - dry\n",
      "CONTAINS GLUTEN! 3767 4845 biscuit 1 cup Graham cracker crumbs - (eg. marie biscuits powdered)\n",
      "CONTAINS GLUTEN! 3771 4852 Rye  1/2 teaspoon Rye\n",
      "CONTAINS GLUTEN! 3776 4860 pasta 1 cup Macaroni pasta - cooked\n",
      "CONTAINS GLUTEN! 3778 4864 noodles 100 grams Rice noodles - thin variety\n",
      "CONTAINS GLUTEN! 3800 4906 Rye  1/2 tablespoon Rye\n",
      "CONTAINS GLUTEN! 3835 4962 noodles 200 grams Yakisoba noodles - optionally use Maggi Noodles\n",
      "CONTAINS GLUTEN! 3836 4963 biscuit 100 grams Oreo biscuits - crumbled\n",
      "CONTAINS GLUTEN! 3843 4974 pasta 2 cups Penne pasta\n",
      "CONTAINS GLUTEN! 3880 5039 semolina  semolina - or breadcrumbs\n",
      "CONTAINS GLUTEN! 3887 5049 wheat 250 grams wheat flour\n",
      "CONTAINS GLUTEN! 3917 5095 Rye  1 teaspoon Rye\n",
      "CONTAINS GLUTEN! 3939 5135 noodles 1 cup Basmati rice - long grain one (you can also use normal rice or noodles)\n",
      "CONTAINS GLUTEN! 3949 5152 wheat 3 Corn flour tortilla - (or wheat flour tortilla)\n",
      "CONTAINS GLUTEN! 3955 5162 rolls 4 Rice paper rolls\n",
      "CONTAINS GLUTEN! 3966 5179 semolina 1/4 cup Sooji (Semolina/ Rava) - semolina\n",
      "CONTAINS GLUTEN! 3994 5220 pasta 2 cups Penne pasta\n",
      "CONTAINS GLUTEN! 3999 5226 wheat 200 grams Spaghetti Pasta - or pad thai noodles (whole wheat)\n",
      "CONTAINS GLUTEN! 4000 5227 pasta 250 grams Macaroni pasta\n",
      "CONTAINS GLUTEN! 4077 5366 pasta Salt - to cook pasta\n",
      "CONTAINS GLUTEN! 4163 5503 rolls 6 Rice paper rolls - sheets\n",
      "CONTAINS GLUTEN! 4182 5528 semolina 1 cup Sooji (Semolina/ Rava) - rice semolina\n",
      "CONTAINS GLUTEN! 4187 5537 pasta 2 cups Penne pasta\n",
      "CONTAINS GLUTEN! 4205 5564 biscuit 7 Digestive biscuit\n",
      "CONTAINS GLUTEN! 4234 5615 wheat  1 tablespoon wheat germ\n",
      "CONTAINS GLUTEN! 4241 5624 biscuit 200 grams Oreo biscuits - (or digestive biscuits)\n",
      "CONTAINS GLUTEN! 4247 5643 wheat 2 cups wheat flour\n",
      "CONTAINS GLUTEN! 4250 5648 cake 6 Sponge cake slice - or mawa cake\n",
      "CONTAINS GLUTEN! 4318 5759 wheat 1 cup Buckwheat Flour (Kuttu Ka Atta)\n",
      "CONTAINS GLUTEN! 4346 5807 noodles 150 grams Soba noodles\n",
      "CONTAINS GLUTEN! 4394 5889 soy sauce  1/2 tsp soy sauce\n",
      "CONTAINS GLUTEN! 4417 5925 wheat 1 cup Buckwheat Flour (Kuttu Ka Atta) - or kuttu ka atta\n",
      "CONTAINS GLUTEN! 4418 5927 wheat 4 Whole Wheat Brown Bread - whole wheat\n",
      "CONTAINS GLUTEN! 4425 5944 biscuit 6 Marie Biscuit - or bourbon biscuits\n",
      "CONTAINS GLUTEN! 4437 5962 wheat  1 cup wheat flour\n",
      "CONTAINS GLUTEN! 4453 5996 crepes Nutella Spread - for the crepes\n",
      "CONTAINS GLUTEN! 4471 6022 soy sauce  1 teaspoon soy sauce\n",
      "CONTAINS GLUTEN! 4538 6133 rolls 8 to 10 Rice paper rolls\n",
      "CONTAINS GLUTEN! 4574 6204 rolls 10 Rice paper rolls - sheets\n",
      "CONTAINS GLUTEN! 4576 6206 biscuit 2 cups Marie Biscuit - or any other biscuits\n",
      "CONTAINS GLUTEN! 4613 6276 biscuit 32 Oreo biscuits\n",
      "CONTAINS GLUTEN! 4620 6286 pasta 1 cup Roasted tomato pasta sauce\n",
      "CONTAINS GLUTEN! 4627 6296 pasta 250 grams Macaroni pasta\n",
      "CONTAINS GLUTEN! 4634 6312 wheat 2 tablespoons Buckwheat Flour (Kuttu Ka Atta) - or ragi flour\n",
      "CONTAINS GLUTEN! 4641 6328 pasta 300 grams Macaroni pasta - cooked\n",
      "CONTAINS GLUTEN! 4657 6365 pasta 2 tablespoon Roasted tomato pasta sauce\n",
      "CONTAINS GLUTEN! 4662 6377 rolls 4 Rice paper rolls\n",
      "CONTAINS GLUTEN! 4722 6500 wheat 2 Corn flour tortilla - or whole wheat flour tortilla\n",
      "CONTAINS GLUTEN! 4726 6505 pasta 1 cup macaroni - pasta\n",
      "CONTAINS GLUTEN! 4754 6566 pasta 1/4 cup Homemade tomato puree - or pasta sauce\n",
      "CONTAINS GLUTEN! 4761 6580 biscuit 20 Oreo biscuits - (or any chocolate biscuits without cream)\n",
      "CONTAINS GLUTEN! 4813 6687 soy sauce 1 tablespoon Dark soy sauce\n",
      "CONTAINS GLUTEN! 4862 6761 pasta 2 tablespoon Roasted tomato pasta sauce\n",
      "CONTAINS GLUTEN! 4887 6814 wheat 1 Corn flour tortilla - wheat tortilla\n",
      "CONTAINS GLUTEN! 4903 6843 wheat 1 cup wheat flour\n",
      "CONTAINS GLUTEN! 4947 6931 soy sauce 1/2 teaspoon Light soy sauce\n",
      "CONTAINS GLUTEN! 4952 6943 soy sauce 1 Tablespoon Dark soy sauce\n",
      "CONTAINS GLUTEN! 4955 6946 pasta 250 grams pasta - any\n",
      "CONTAINS GLUTEN! 4987 7005 Rye  1/2 teaspoon Rye\n",
      "CONTAINS GLUTEN! 5012 7061 pasta Roasted tomato pasta sauce - as needed\n",
      "CONTAINS GLUTEN! 5059 7160 wheat 1 cup Buckwheat Flour (Kuttu Ka Atta)\n",
      "CONTAINS GLUTEN! 5075 7189 wheat 1 cup Foxtail Millet - or broken wheat (dalia)\n",
      "CONTAINS GLUTEN! 5091 7228 pita Butter - as required for toasting pita\n",
      "CONTAINS GLUTEN! 5095 7242 pasta 200 grams Spirali pasta\n",
      "CONTAINS GLUTEN! 5169 7388 soy sauce 1/2 tablespoon Dark soy sauce - (optional)\n",
      "CONTAINS GLUTEN! 5175 7398 pasta 1/2 cup Penne pasta - boiled\n",
      "CONTAINS GLUTEN! 5208 7475 wheat 1 cup All Purpose Flour (Maida) - durum wheat flour\n",
      "CONTAINS GLUTEN! 5225 7507 pasta 500 grams Penne pasta\n",
      "CONTAINS GLUTEN! 5265 7598 soy sauce 3 tablespoon Light soy sauce\n",
      "CONTAINS GLUTEN! 5312 7721 Rye  1 teaspoon Rye\n",
      "CONTAINS GLUTEN! 5352 7803 pasta 350 grams Penne pasta\n",
      "CONTAINS GLUTEN! 5404 7931 wheat 1 cup Rice puttu - or wheat puttu\n",
      "CONTAINS GLUTEN! 5459 8070 Barley 1 cup Barley (seeds)\n",
      "CONTAINS GLUTEN! 5464 8082 wheat 1 cup Buckwheat Flour (Kuttu Ka Atta) - kuttu ka dalia\n",
      "CONTAINS GLUTEN! 5466 8091 pasta 2 cups Penne pasta - boiled as per instruction\n",
      "CONTAINS GLUTEN! 5493 8151 biscuit 200 grams Oreo biscuits\n",
      "CONTAINS GLUTEN! 5498 8164 pasta 2 teaspoon Roasted tomato pasta sauce\n",
      "CONTAINS GLUTEN! 5522 8222 semolina 1/4 cup Sooji (Semolina/ Rava) - semolina\n",
      "CONTAINS GLUTEN! 5523 8226 Barley 1/2 cup Barley (seeds) - soaked for 5 to 6 hours\n",
      "CONTAINS GLUTEN! 5526 8233 Rye  1/4 small Spoon Rye\n",
      "CONTAINS GLUTEN! 5539 8269 soy sauce 1/4 cup Dark soy sauce\n",
      "CONTAINS GLUTEN! 5544 8278 pasta 1 tablespoon Roasted tomato pasta sauce\n",
      "CONTAINS GLUTEN! 5547 8292 biscuit 24 Oreo biscuits - (2 large packs)\n",
      "CONTAINS GLUTEN! 5555 8309 soy sauce 1 tablespoon Dark soy sauce\n",
      "CONTAINS GLUTEN! 5600 8414 noodles 2 tablespoon Egg noodles - fried (optional)\n",
      "CONTAINS GLUTEN! 5602 8420 soy sauce 2 teaspoons Dark soy sauce\n",
      "CONTAINS GLUTEN! 5604 8424 wheat 1-1/2 cups Whole Wheat Flour - 1.5 cups Whole wheat flour\n",
      "CONTAINS GLUTEN! 5623 8471 wheat 8 Burger buns - whole wheat\n",
      "CONTAINS GLUTEN! 5659 8557 wheat 4 Whole Wheat Brown Bread - whole wheat\n",
      "CONTAINS GLUTEN! 5695 8645 pasta 4 tablespoon Roasted tomato pasta sauce\n",
      "CONTAINS GLUTEN! 5713 8696 cake Butter - to make pancakes\n",
      "CONTAINS GLUTEN! 5715 8704 soy sauce 1 teaspoon Dark soy sauce\n",
      "CONTAINS GLUTEN! 5769 8839 Barley 50 grams Barley (seeds)\n",
      "CONTAINS GLUTEN! 5779 8858 pasta 1 cup Macaroni pasta\n",
      "CONTAINS GLUTEN! 5828 8963 wheat 1/2 Baguette - whole wheat\n",
      "CONTAINS GLUTEN! 5866 9083 pasta 1 cup Macaroni pasta\n",
      "CONTAINS GLUTEN! 5885 9139 noodles 250 grams Veg Hakka Noodles - cooked as per package noodles\n",
      "CONTAINS GLUTEN! 5894 9165 pasta 300 grams Penne pasta\n",
      "CONTAINS GLUTEN! 5907 9201 pasta 2 cups Spirali pasta\n",
      "CONTAINS GLUTEN! 5915 9230 wheat 1-1/4 cups Buckwheat Flour (Kuttu Ka Atta)\n",
      "CONTAINS GLUTEN! 5942 9295 wheat 225 grams Spaghetti Pasta - organic whole wheat\n",
      "CONTAINS GLUTEN! 5948 9306 wheat 1 cup Buckwheat Flour (Kuttu Ka Atta)\n",
      "CONTAINS GLUTEN! 5975 9377 wheat 1/2 cup Rice flour - or buckwheat flour\n",
      "CONTAINS GLUTEN! 5977 9382 pasta 3 tablespoon Roasted tomato pasta sauce\n",
      "CONTAINS GLUTEN! 6005 9461 pasta 2 cups Spirali pasta - boiled\n",
      "CONTAINS GLUTEN! 6073 9631 Rye  1/2 teaspoon Rye\n",
      "CONTAINS GLUTEN! 6078 9643 Rye  1 teaspoon Rye\n",
      "CONTAINS GLUTEN! 6088 9670 wheat 1/2 cup wheat flour\n",
      "CONTAINS GLUTEN! 6090 9678 cake Ghee - for cooking the pancakes\n",
      "CONTAINS GLUTEN! 6092 9684 semolina  1-1 / 2 tsp semolina\n",
      "CONTAINS GLUTEN! 6117 9778 Barley 1/2 cup Barley (seeds) - soaked with 2 teaspoon sugar for 2 hours and ground into a smooth paste\n",
      "CONTAINS GLUTEN! 6131 9868 wheat 1 cup wheat flour\n",
      "CONTAINS GLUTEN! 6137 9896 semolina 1/2 cup Basmati rice - coarsely ground (similar to coarse semolina)\n",
      "CONTAINS GLUTEN! 6148 9945 wheat  1 cup wheat flour\n",
      "CONTAINS GLUTEN! 6161 9996 cookies 1-1/2 cups Marie Biscuit - or any digestive cookies (crushed)\n",
      "CONTAINS GLUTEN! 6165 10008 Rye  1/2 teaspoon Rye\n",
      "CONTAINS GLUTEN! 6203 10144 soy sauce 2 teaspoons Light soy sauce\n",
      "CONTAINS GLUTEN! 6214 10191 wheat 2 cups wheat flour\n",
      "CONTAINS GLUTEN! 6288 10438 Malt 100 grams Maltesers\n",
      "CONTAINS GLUTEN! 6297 10466 pasta 300 grams Penne pasta\n",
      "CONTAINS GLUTEN! 6339 10673 cake Sunflower Oil - or butter for making pancakes\n",
      "CONTAINS GLUTEN! 6342 10682 cookies Shortbread cookies - for garnish\n",
      "CONTAINS GLUTEN! 6407 10965 biscuit 4 Weet bix - biscuits\n",
      "CONTAINS GLUTEN! 6411 10975 cake Butter - or oil for cooking pancakes\n",
      "CONTAINS GLUTEN! 6483 11223 pasta 1 cup Macaroni pasta - boiled\n",
      "CONTAINS GLUTEN! 6518 11386 Rye  1/2 teaspoon Rye\n",
      "CONTAINS GLUTEN! 6523 11428 wheat 1-1 / 2 cup wheat flour\n",
      "CONTAINS GLUTEN! 6535 11487 Rye  1 teaspoon Rye\n",
      "CONTAINS GLUTEN! 6563 11668 wheat 2 cups Buckwheat Flour (Kuttu Ka Atta)\n",
      "CONTAINS GLUTEN! 6576 11753 wheat  3 tablespoons wheat flour - or maida\n",
      "CONTAINS GLUTEN! 6619 11988 wheat 2 cups Buckwheat Flour (Kuttu Ka Atta)\n",
      "CONTAINS GLUTEN! 6668 12223 pasta 1/2 cup Roasted tomato pasta sauce\n",
      "CONTAINS GLUTEN! 6710 12502 soy sauce 1 teaspoon Soy sauce - soy sauce\n",
      "CONTAINS GLUTEN! 6732 12632 noodles 1 packet Egg noodles\n",
      "CONTAINS GLUTEN! 6765 12880 soy sauce 2 teaspoons Dark soy sauce\n",
      "CONTAINS GLUTEN! 6771 12935 wheat 3/4 cup Buckwheat Flour (Kuttu Ka Atta)\n",
      "CONTAINS GLUTEN! 6774 12950 noodles 2 cups Egg noodles - (Flat) boiled\n",
      "CONTAINS GLUTEN! 6807 13289 wheat 500 grams Spaghetti Pasta - whole wheat\n"
     ]
    }
   ],
   "source": [
    "f=0\n",
    "c=0\n",
    "for x,y,i in zip(IndianRecipes[\"TranslatedIngredients\"],IndianRecipes[\"Srno\"],range(1,6872)):\n",
    "    ingredientsList = str(x).split(\",\")\n",
    "    #print(ingredientsList) # For testing purposes\n",
    "    for ingredient in ingredientsList:\n",
    "        for glutenContainingIngredient in glutenContainingIngredients:\n",
    "            if glutenContainingIngredient in ingredient:\n",
    "                print(\"CONTAINS GLUTEN!\",i,y,glutenContainingIngredient,ingredient)\n",
    "                # For testing purposes\n",
    "                IndianRecipes.drop(i-1,inplace=True)\n",
    "                f = 1\n",
    "                c += 1\n",
    "                break;\n",
    "        if f==1:\n",
    "            break;\n",
    "    if f==1:\n",
    "        f=0\n",
    "        continue;\n"
   ],
   "metadata": {
    "collapsed": false,
    "pycharm": {
     "name": "#%%\n"
    }
   }
  },
  {
   "cell_type": "code",
   "execution_count": 7,
   "outputs": [],
   "source": [
    "# re-running to check if all gluten containing items have been removed\n",
    "for x,y,i in zip(IndianRecipes[\"TranslatedIngredients\"],IndianRecipes[\"Srno\"],range(1,6872)):\n",
    "    ingredientsList = str(x).split(\",\")\n",
    "    #print(ingredientsList) # For testing purposes\n",
    "    for ingredient in ingredientsList:\n",
    "        for glutenContainingIngredient in glutenContainingIngredients:\n",
    "            if glutenContainingIngredient in ingredient:\n",
    "                print(\"CONTAINS GLUTEN!\",i,y,glutenContainingIngredient,ingredient)\n",
    "                # For testing purposes\n",
    "                #IndianRecipes.drop((i-1))"
   ],
   "metadata": {
    "collapsed": false,
    "pycharm": {
     "name": "#%%\n"
    }
   }
  },
  {
   "cell_type": "code",
   "execution_count": 8,
   "outputs": [
    {
     "name": "stdout",
     "output_type": "stream",
     "text": [
      "<class 'pandas.core.frame.DataFrame'>\n",
      "Int64Index: 6558 entries, 0 to 6870\n",
      "Data columns (total 15 columns):\n",
      " #   Column                  Non-Null Count  Dtype \n",
      "---  ------                  --------------  ----- \n",
      " 0   Srno                    6558 non-null   int64 \n",
      " 1   RecipeName              6558 non-null   object\n",
      " 2   TranslatedRecipeName    6558 non-null   object\n",
      " 3   Ingredients             6552 non-null   object\n",
      " 4   TranslatedIngredients   6552 non-null   object\n",
      " 5   PrepTimeInMins          6558 non-null   int64 \n",
      " 6   CookTimeInMins          6558 non-null   int64 \n",
      " 7   TotalTimeInMins         6558 non-null   int64 \n",
      " 8   Servings                6558 non-null   int64 \n",
      " 9   Cuisine                 6558 non-null   object\n",
      " 10  Course                  6558 non-null   object\n",
      " 11  Diet                    6558 non-null   object\n",
      " 12  Instructions            6558 non-null   object\n",
      " 13  TranslatedInstructions  6558 non-null   object\n",
      " 14  URL                     6558 non-null   object\n",
      "dtypes: int64(5), object(10)\n",
      "memory usage: 819.8+ KB\n"
     ]
    }
   ],
   "source": [
    "IndianRecipes.info()"
   ],
   "metadata": {
    "collapsed": false,
    "pycharm": {
     "name": "#%%\n"
    }
   }
  },
  {
   "cell_type": "code",
   "execution_count": 9,
   "outputs": [
    {
     "data": {
      "text/plain": "313"
     },
     "execution_count": 9,
     "metadata": {},
     "output_type": "execute_result"
    }
   ],
   "source": [
    "c"
   ],
   "metadata": {
    "collapsed": false,
    "pycharm": {
     "name": "#%%\n"
    }
   }
  },
  {
   "cell_type": "markdown",
   "source": [
    "A total of 313 rows(recipes) have been removed. This can be verified by comparing the difference in number of rows from the original dataframe(6871) and filtered dataframe(6558) = 313."
   ],
   "metadata": {
    "collapsed": false,
    "pycharm": {
     "name": "#%% md\n"
    }
   }
  },
  {
   "cell_type": "code",
   "execution_count": null,
   "outputs": [],
   "source": [],
   "metadata": {
    "collapsed": false,
    "pycharm": {
     "name": "#%%\n"
    }
   }
  }
 ],
 "metadata": {
  "kernelspec": {
   "display_name": "Python 3.10.7 64-bit",
   "language": "python",
   "name": "python3"
  },
  "language_info": {
   "codemirror_mode": {
    "name": "ipython",
    "version": 3
   },
   "file_extension": ".py",
   "mimetype": "text/x-python",
   "name": "python",
   "nbconvert_exporter": "python",
   "pygments_lexer": "ipython3",
   "version": "3.10.7"
  },
  "orig_nbformat": 4,
  "vscode": {
   "interpreter": {
    "hash": "aee8b7b246df8f9039afb4144a1f6fd8d2ca17a180786b69acc140d282b71a49"
   }
  }
 },
 "nbformat": 4,
 "nbformat_minor": 2
}