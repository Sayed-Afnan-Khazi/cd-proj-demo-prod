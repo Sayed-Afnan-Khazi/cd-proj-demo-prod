{
 "cells": [
  {
   "cell_type": "code",
   "execution_count": 1,
   "outputs": [],
   "source": [
    "import pandas as pd"
   ],
   "metadata": {
    "collapsed": false,
    "pycharm": {
     "name": "#%%\n"
    }
   }
  },
  {
   "cell_type": "code",
   "execution_count": 2,
   "outputs": [],
   "source": [
    "for i in range(1,25):\n",
    "    z = str(i)\n",
    "    file_name = 'File' + ' ' + z + '.csv'\n",
    "    globals()['table%s' % z] = pd.read_csv(\"/Users/ayushnpatel/Desktop/cd-proj/ifct-composition-assets-renamed/%s\" %file_name)"
   ],
   "metadata": {
    "collapsed": false,
    "pycharm": {
     "name": "#%%\n"
    }
   }
  },
  {
   "cell_type": "code",
   "execution_count": 3,
   "outputs": [],
   "source": [
    "for i in range(1,5):\n",
    "    z = str(i)\n",
    "    globals()['table%s_merged' % z] = globals()['table%s' % z]"
   ],
   "metadata": {
    "collapsed": false,
    "pycharm": {
     "name": "#%%\n"
    }
   }
  },
  {
   "cell_type": "code",
   "execution_count": 4,
   "outputs": [],
   "source": [
    "table5_merged = pd.merge(table5,table6)\n",
    "table6_merged = table7\n",
    "#table7_list = [table8,table9,table10,table11,table12,table13,table14]\n",
    "#table7_merged = pd.concat(table7_list)\n",
    "for i in range(8,10):\n",
    "    z = str(i)\n",
    "    table7_merged = pd.merge(globals()['table%s' % z],globals()['table%s' % str(i+1)],on='code',how='outer')"
   ],
   "metadata": {
    "collapsed": false,
    "pycharm": {
     "name": "#%%\n"
    }
   }
  },
  {
   "cell_type": "code",
   "execution_count": 5,
   "outputs": [
    {
     "data": {
      "text/plain": "      code                                             name  regn         cho  \\\n0     A001       Amaranth seed, black (Amaranthus cruentus)     1       56.71   \n1     A002  Amaranth seed, pale brown (Amaranthus cruentus)     6  60.13±1.30   \n2     A003                    Bajra (Pennisetum typhoideum)     6  56.02±2.57   \n3     A004                         Barley (Hordeum vulgare)     6  72.73±2.93   \n4     A005                          Jowar (Sorghum vulgare)     6  60.96±1.70   \n..     ...                                              ...   ...         ...   \n309   K002                                    Coconut Water     6   3.06±0.07   \n310  L001                              Milk, whole, Buffalo     6  5.48±0.19    \n311   L002                                 Milk, whole, Cow     6   4.94±0.18   \n312   L003                                           Paneer     6  12.01±0.08   \n313   L004                                             Khoa     6  16.33±3.84   \n\n         starch        frus        glus        sucs mals      fsugar  \\\n0         55.83         0.1        0.22        0.46  0.1        0.88   \n1    59.33±1.31   0.10±0.01   0.22±0.04   0.48±0.04  NaN   0.80±0.07   \n2    55.21±2.57   0.21±0.01   0.60±0.02         NaN  NaN   0.81±0.01   \n3    72.67±2.92         NaN   0.06±0.02         NaN  NaN   0.06±0.02   \n4    59.70±1.70   0.57±0.07   0.10±0.01   0.60±0.04  NaN   1.27±0.05   \n..          ...         ...         ...         ...  ...         ...   \n309         NaN   3.06±0.07         NaN         NaN  NaN   3.06±0.07   \n310         NaN  0.24±0.05   0.39±0.04   0.59±0.06   NaN   5.34±0.16   \n311         NaN   0.20±0.04   0.18±0.04   0.24±0.03  NaN   4.89±0.14   \n312         NaN   0.50±0.03   1.11±0.24   0.84±0.08  NaN  11.57±0.28   \n313         NaN   0.80±0.04   1.57±0.34   0.91±0.04  NaN  16.14±1.11   \n\n        lactose  \n0           NaN  \n1           NaN  \n2           NaN  \n3           NaN  \n4           NaN  \n..          ...  \n309         NaN  \n310   4.12±0.14  \n311   4.28±0.10  \n312   9.12±0.20  \n313  12.86±1.03  \n\n[314 rows x 11 columns]",
      "text/html": "<div>\n<style scoped>\n    .dataframe tbody tr th:only-of-type {\n        vertical-align: middle;\n    }\n\n    .dataframe tbody tr th {\n        vertical-align: top;\n    }\n\n    .dataframe thead th {\n        text-align: right;\n    }\n</style>\n<table border=\"1\" class=\"dataframe\">\n  <thead>\n    <tr style=\"text-align: right;\">\n      <th></th>\n      <th>code</th>\n      <th>name</th>\n      <th>regn</th>\n      <th>cho</th>\n      <th>starch</th>\n      <th>frus</th>\n      <th>glus</th>\n      <th>sucs</th>\n      <th>mals</th>\n      <th>fsugar</th>\n      <th>lactose</th>\n    </tr>\n  </thead>\n  <tbody>\n    <tr>\n      <th>0</th>\n      <td>A001</td>\n      <td>Amaranth seed, black (Amaranthus cruentus)</td>\n      <td>1</td>\n      <td>56.71</td>\n      <td>55.83</td>\n      <td>0.1</td>\n      <td>0.22</td>\n      <td>0.46</td>\n      <td>0.1</td>\n      <td>0.88</td>\n      <td>NaN</td>\n    </tr>\n    <tr>\n      <th>1</th>\n      <td>A002</td>\n      <td>Amaranth seed, pale brown (Amaranthus cruentus)</td>\n      <td>6</td>\n      <td>60.13±1.30</td>\n      <td>59.33±1.31</td>\n      <td>0.10±0.01</td>\n      <td>0.22±0.04</td>\n      <td>0.48±0.04</td>\n      <td>NaN</td>\n      <td>0.80±0.07</td>\n      <td>NaN</td>\n    </tr>\n    <tr>\n      <th>2</th>\n      <td>A003</td>\n      <td>Bajra (Pennisetum typhoideum)</td>\n      <td>6</td>\n      <td>56.02±2.57</td>\n      <td>55.21±2.57</td>\n      <td>0.21±0.01</td>\n      <td>0.60±0.02</td>\n      <td>NaN</td>\n      <td>NaN</td>\n      <td>0.81±0.01</td>\n      <td>NaN</td>\n    </tr>\n    <tr>\n      <th>3</th>\n      <td>A004</td>\n      <td>Barley (Hordeum vulgare)</td>\n      <td>6</td>\n      <td>72.73±2.93</td>\n      <td>72.67±2.92</td>\n      <td>NaN</td>\n      <td>0.06±0.02</td>\n      <td>NaN</td>\n      <td>NaN</td>\n      <td>0.06±0.02</td>\n      <td>NaN</td>\n    </tr>\n    <tr>\n      <th>4</th>\n      <td>A005</td>\n      <td>Jowar (Sorghum vulgare)</td>\n      <td>6</td>\n      <td>60.96±1.70</td>\n      <td>59.70±1.70</td>\n      <td>0.57±0.07</td>\n      <td>0.10±0.01</td>\n      <td>0.60±0.04</td>\n      <td>NaN</td>\n      <td>1.27±0.05</td>\n      <td>NaN</td>\n    </tr>\n    <tr>\n      <th>...</th>\n      <td>...</td>\n      <td>...</td>\n      <td>...</td>\n      <td>...</td>\n      <td>...</td>\n      <td>...</td>\n      <td>...</td>\n      <td>...</td>\n      <td>...</td>\n      <td>...</td>\n      <td>...</td>\n    </tr>\n    <tr>\n      <th>309</th>\n      <td>K002</td>\n      <td>Coconut Water</td>\n      <td>6</td>\n      <td>3.06±0.07</td>\n      <td>NaN</td>\n      <td>3.06±0.07</td>\n      <td>NaN</td>\n      <td>NaN</td>\n      <td>NaN</td>\n      <td>3.06±0.07</td>\n      <td>NaN</td>\n    </tr>\n    <tr>\n      <th>310</th>\n      <td>L001</td>\n      <td>Milk, whole, Buffalo</td>\n      <td>6</td>\n      <td>5.48±0.19</td>\n      <td>NaN</td>\n      <td>0.24±0.05</td>\n      <td>0.39±0.04</td>\n      <td>0.59±0.06</td>\n      <td>NaN</td>\n      <td>5.34±0.16</td>\n      <td>4.12±0.14</td>\n    </tr>\n    <tr>\n      <th>311</th>\n      <td>L002</td>\n      <td>Milk, whole, Cow</td>\n      <td>6</td>\n      <td>4.94±0.18</td>\n      <td>NaN</td>\n      <td>0.20±0.04</td>\n      <td>0.18±0.04</td>\n      <td>0.24±0.03</td>\n      <td>NaN</td>\n      <td>4.89±0.14</td>\n      <td>4.28±0.10</td>\n    </tr>\n    <tr>\n      <th>312</th>\n      <td>L003</td>\n      <td>Paneer</td>\n      <td>6</td>\n      <td>12.01±0.08</td>\n      <td>NaN</td>\n      <td>0.50±0.03</td>\n      <td>1.11±0.24</td>\n      <td>0.84±0.08</td>\n      <td>NaN</td>\n      <td>11.57±0.28</td>\n      <td>9.12±0.20</td>\n    </tr>\n    <tr>\n      <th>313</th>\n      <td>L004</td>\n      <td>Khoa</td>\n      <td>6</td>\n      <td>16.33±3.84</td>\n      <td>NaN</td>\n      <td>0.80±0.04</td>\n      <td>1.57±0.34</td>\n      <td>0.91±0.04</td>\n      <td>NaN</td>\n      <td>16.14±1.11</td>\n      <td>12.86±1.03</td>\n    </tr>\n  </tbody>\n</table>\n<p>314 rows × 11 columns</p>\n</div>"
     },
     "execution_count": 5,
     "metadata": {},
     "output_type": "execute_result"
    }
   ],
   "source": [
    "table7"
   ],
   "metadata": {
    "collapsed": false,
    "pycharm": {
     "name": "#%%\n"
    }
   }
  },
  {
   "cell_type": "code",
   "execution_count": 6,
   "outputs": [],
   "source": [
    "#ignoring table 7 and onwards as they contain info that is not relevant on the macro scale"
   ],
   "metadata": {
    "collapsed": false,
    "pycharm": {
     "name": "#%%\n"
    }
   }
  },
  {
   "cell_type": "code",
   "execution_count": 7,
   "outputs": [
    {
     "data": {
      "text/plain": "     code                                           name_x  regn_x  \\\n0    A001       Amaranth seed, black (Amaranthus cruentus)     1.0   \n1    A002  Amaranth seed, pale brown (Amaranthus cruentus)     6.0   \n2    A003                    Bajra (Pennisetum typhoideum)     6.0   \n3    A004                         Barley (Hordeum vulgare)     6.0   \n4    A005                          Jowar (Sorghum vulgare)     6.0   \n..    ...                                              ...     ...   \n406  O059                                              NaN     NaN   \n407  O060                                              NaN     NaN   \n408  O061                                              NaN     NaN   \n409  O062                                              NaN     NaN   \n410  O063                                              NaN     NaN   \n\n       f20d1n9f f22d1n9 f24d1c   f18d2cn6 f20d2     f18d3n3 f20d4n6  ...  \\\n0         12.62     NaN    NaN       2259   NaN       20.91     NaN  ...   \n1    12.71±1.56     NaN    NaN   2223±129   NaN  43.03±2.70     NaN  ...   \n2           NaN     NaN    NaN  1844±56.7   NaN     140±5.8     NaN  ...   \n3           NaN     NaN    NaN   549±21.6   NaN  26.32±3.35     NaN  ...   \n4           NaN     NaN    NaN   508±18.3   NaN  16.54±1.31     NaN  ...   \n..          ...     ...    ...        ...   ...         ...     ...  ...   \n406         NaN     NaN    NaN        NaN   NaN         NaN     NaN  ...   \n407         NaN     NaN    NaN        NaN   NaN         NaN     NaN  ...   \n408         NaN     NaN    NaN        NaN   NaN         NaN     NaN  ...   \n409         NaN     NaN    NaN        NaN   NaN         NaN     NaN  ...   \n410         NaN     NaN    NaN        NaN   NaN         NaN     NaN  ...   \n\n    regn_y f11d0 f12d0  f14d0  f15d0  f16d0 f18d0 f20d0  f22d0 f24d0  \n0      NaN   NaN   NaN    NaN    NaN    NaN   NaN   NaN    NaN   NaN  \n1      NaN   NaN   NaN    NaN    NaN    NaN   NaN   NaN    NaN   NaN  \n2      NaN   NaN   NaN    NaN    NaN    NaN   NaN   NaN    NaN   NaN  \n3      NaN   NaN   NaN    NaN    NaN    NaN   NaN   NaN    NaN   NaN  \n4      NaN   NaN   NaN    NaN    NaN    NaN   NaN   NaN    NaN   NaN  \n..     ...   ...   ...    ...    ...    ...   ...   ...    ...   ...  \n406    1.0   NaN   NaN  80.96    NaN    827   121   NaN    NaN   NaN  \n407    1.0   NaN   NaN  59.34    NaN    754    97   NaN    NaN   NaN  \n408    1.0   NaN   NaN    282    NaN   2634   227   NaN    NaN   NaN  \n409    1.0   NaN   NaN    180    NaN   1606   121   NaN    NaN   NaN  \n410    1.0   NaN   NaN    163    NaN   1295   117   NaN    NaN   NaN  \n\n[411 rows x 24 columns]",
      "text/html": "<div>\n<style scoped>\n    .dataframe tbody tr th:only-of-type {\n        vertical-align: middle;\n    }\n\n    .dataframe tbody tr th {\n        vertical-align: top;\n    }\n\n    .dataframe thead th {\n        text-align: right;\n    }\n</style>\n<table border=\"1\" class=\"dataframe\">\n  <thead>\n    <tr style=\"text-align: right;\">\n      <th></th>\n      <th>code</th>\n      <th>name_x</th>\n      <th>regn_x</th>\n      <th>f20d1n9f</th>\n      <th>f22d1n9</th>\n      <th>f24d1c</th>\n      <th>f18d2cn6</th>\n      <th>f20d2</th>\n      <th>f18d3n3</th>\n      <th>f20d4n6</th>\n      <th>...</th>\n      <th>regn_y</th>\n      <th>f11d0</th>\n      <th>f12d0</th>\n      <th>f14d0</th>\n      <th>f15d0</th>\n      <th>f16d0</th>\n      <th>f18d0</th>\n      <th>f20d0</th>\n      <th>f22d0</th>\n      <th>f24d0</th>\n    </tr>\n  </thead>\n  <tbody>\n    <tr>\n      <th>0</th>\n      <td>A001</td>\n      <td>Amaranth seed, black (Amaranthus cruentus)</td>\n      <td>1.0</td>\n      <td>12.62</td>\n      <td>NaN</td>\n      <td>NaN</td>\n      <td>2259</td>\n      <td>NaN</td>\n      <td>20.91</td>\n      <td>NaN</td>\n      <td>...</td>\n      <td>NaN</td>\n      <td>NaN</td>\n      <td>NaN</td>\n      <td>NaN</td>\n      <td>NaN</td>\n      <td>NaN</td>\n      <td>NaN</td>\n      <td>NaN</td>\n      <td>NaN</td>\n      <td>NaN</td>\n    </tr>\n    <tr>\n      <th>1</th>\n      <td>A002</td>\n      <td>Amaranth seed, pale brown (Amaranthus cruentus)</td>\n      <td>6.0</td>\n      <td>12.71±1.56</td>\n      <td>NaN</td>\n      <td>NaN</td>\n      <td>2223±129</td>\n      <td>NaN</td>\n      <td>43.03±2.70</td>\n      <td>NaN</td>\n      <td>...</td>\n      <td>NaN</td>\n      <td>NaN</td>\n      <td>NaN</td>\n      <td>NaN</td>\n      <td>NaN</td>\n      <td>NaN</td>\n      <td>NaN</td>\n      <td>NaN</td>\n      <td>NaN</td>\n      <td>NaN</td>\n    </tr>\n    <tr>\n      <th>2</th>\n      <td>A003</td>\n      <td>Bajra (Pennisetum typhoideum)</td>\n      <td>6.0</td>\n      <td>NaN</td>\n      <td>NaN</td>\n      <td>NaN</td>\n      <td>1844±56.7</td>\n      <td>NaN</td>\n      <td>140±5.8</td>\n      <td>NaN</td>\n      <td>...</td>\n      <td>NaN</td>\n      <td>NaN</td>\n      <td>NaN</td>\n      <td>NaN</td>\n      <td>NaN</td>\n      <td>NaN</td>\n      <td>NaN</td>\n      <td>NaN</td>\n      <td>NaN</td>\n      <td>NaN</td>\n    </tr>\n    <tr>\n      <th>3</th>\n      <td>A004</td>\n      <td>Barley (Hordeum vulgare)</td>\n      <td>6.0</td>\n      <td>NaN</td>\n      <td>NaN</td>\n      <td>NaN</td>\n      <td>549±21.6</td>\n      <td>NaN</td>\n      <td>26.32±3.35</td>\n      <td>NaN</td>\n      <td>...</td>\n      <td>NaN</td>\n      <td>NaN</td>\n      <td>NaN</td>\n      <td>NaN</td>\n      <td>NaN</td>\n      <td>NaN</td>\n      <td>NaN</td>\n      <td>NaN</td>\n      <td>NaN</td>\n      <td>NaN</td>\n    </tr>\n    <tr>\n      <th>4</th>\n      <td>A005</td>\n      <td>Jowar (Sorghum vulgare)</td>\n      <td>6.0</td>\n      <td>NaN</td>\n      <td>NaN</td>\n      <td>NaN</td>\n      <td>508±18.3</td>\n      <td>NaN</td>\n      <td>16.54±1.31</td>\n      <td>NaN</td>\n      <td>...</td>\n      <td>NaN</td>\n      <td>NaN</td>\n      <td>NaN</td>\n      <td>NaN</td>\n      <td>NaN</td>\n      <td>NaN</td>\n      <td>NaN</td>\n      <td>NaN</td>\n      <td>NaN</td>\n      <td>NaN</td>\n    </tr>\n    <tr>\n      <th>...</th>\n      <td>...</td>\n      <td>...</td>\n      <td>...</td>\n      <td>...</td>\n      <td>...</td>\n      <td>...</td>\n      <td>...</td>\n      <td>...</td>\n      <td>...</td>\n      <td>...</td>\n      <td>...</td>\n      <td>...</td>\n      <td>...</td>\n      <td>...</td>\n      <td>...</td>\n      <td>...</td>\n      <td>...</td>\n      <td>...</td>\n      <td>...</td>\n      <td>...</td>\n      <td>...</td>\n    </tr>\n    <tr>\n      <th>406</th>\n      <td>O059</td>\n      <td>NaN</td>\n      <td>NaN</td>\n      <td>NaN</td>\n      <td>NaN</td>\n      <td>NaN</td>\n      <td>NaN</td>\n      <td>NaN</td>\n      <td>NaN</td>\n      <td>NaN</td>\n      <td>...</td>\n      <td>1.0</td>\n      <td>NaN</td>\n      <td>NaN</td>\n      <td>80.96</td>\n      <td>NaN</td>\n      <td>827</td>\n      <td>121</td>\n      <td>NaN</td>\n      <td>NaN</td>\n      <td>NaN</td>\n    </tr>\n    <tr>\n      <th>407</th>\n      <td>O060</td>\n      <td>NaN</td>\n      <td>NaN</td>\n      <td>NaN</td>\n      <td>NaN</td>\n      <td>NaN</td>\n      <td>NaN</td>\n      <td>NaN</td>\n      <td>NaN</td>\n      <td>NaN</td>\n      <td>...</td>\n      <td>1.0</td>\n      <td>NaN</td>\n      <td>NaN</td>\n      <td>59.34</td>\n      <td>NaN</td>\n      <td>754</td>\n      <td>97</td>\n      <td>NaN</td>\n      <td>NaN</td>\n      <td>NaN</td>\n    </tr>\n    <tr>\n      <th>408</th>\n      <td>O061</td>\n      <td>NaN</td>\n      <td>NaN</td>\n      <td>NaN</td>\n      <td>NaN</td>\n      <td>NaN</td>\n      <td>NaN</td>\n      <td>NaN</td>\n      <td>NaN</td>\n      <td>NaN</td>\n      <td>...</td>\n      <td>1.0</td>\n      <td>NaN</td>\n      <td>NaN</td>\n      <td>282</td>\n      <td>NaN</td>\n      <td>2634</td>\n      <td>227</td>\n      <td>NaN</td>\n      <td>NaN</td>\n      <td>NaN</td>\n    </tr>\n    <tr>\n      <th>409</th>\n      <td>O062</td>\n      <td>NaN</td>\n      <td>NaN</td>\n      <td>NaN</td>\n      <td>NaN</td>\n      <td>NaN</td>\n      <td>NaN</td>\n      <td>NaN</td>\n      <td>NaN</td>\n      <td>NaN</td>\n      <td>...</td>\n      <td>1.0</td>\n      <td>NaN</td>\n      <td>NaN</td>\n      <td>180</td>\n      <td>NaN</td>\n      <td>1606</td>\n      <td>121</td>\n      <td>NaN</td>\n      <td>NaN</td>\n      <td>NaN</td>\n    </tr>\n    <tr>\n      <th>410</th>\n      <td>O063</td>\n      <td>NaN</td>\n      <td>NaN</td>\n      <td>NaN</td>\n      <td>NaN</td>\n      <td>NaN</td>\n      <td>NaN</td>\n      <td>NaN</td>\n      <td>NaN</td>\n      <td>NaN</td>\n      <td>...</td>\n      <td>1.0</td>\n      <td>NaN</td>\n      <td>NaN</td>\n      <td>163</td>\n      <td>NaN</td>\n      <td>1295</td>\n      <td>117</td>\n      <td>NaN</td>\n      <td>NaN</td>\n      <td>NaN</td>\n    </tr>\n  </tbody>\n</table>\n<p>411 rows × 24 columns</p>\n</div>"
     },
     "execution_count": 7,
     "metadata": {},
     "output_type": "execute_result"
    }
   ],
   "source": [
    "table7_merged"
   ],
   "metadata": {
    "collapsed": false,
    "pycharm": {
     "name": "#%%\n"
    }
   }
  },
  {
   "cell_type": "code",
   "execution_count": 8,
   "outputs": [],
   "source": [
    "table_dict = {'table1_merged':'proximate principles and dietary fibre','table2_merged':'water soluble vitamins','table3_merged':'fat soluble vitamins','table4_merged':'carotenoids','table5_merged':'minerals and trace elements','table6_merged':'starch and individual sugars'}"
   ],
   "metadata": {
    "collapsed": false,
    "pycharm": {
     "name": "#%%\n"
    }
   }
  },
  {
   "cell_type": "code",
   "execution_count": 9,
   "outputs": [],
   "source": [
    "for i in range(1,6):\n",
    "    z = str(i)\n",
    "    table_merged_master = pd.merge(globals()['table%s_merged' % z],globals()['table%s_merged' % str(i+1)],on='code',how='outer')"
   ],
   "metadata": {
    "collapsed": false,
    "pycharm": {
     "name": "#%%\n"
    }
   }
  },
  {
   "cell_type": "code",
   "execution_count": 10,
   "outputs": [
    {
     "data": {
      "text/plain": "      code                                           name_x  regn_x  \\\n0     A001       Amaranth seed, black (Amaranthus cruentus)     1.0   \n1     A002  Amaranth seed, pale brown (Amaranthus cruentus)     6.0   \n2     A003                    Bajra (Pennisetum typhoideum)     6.0   \n3     A004                         Barley (Hordeum vulgare)     6.0   \n4     A005                          Jowar (Sorghum vulgare)     6.0   \n..     ...                                              ...     ...   \n525   E063                                              NaN     NaN   \n526   F001                                              NaN     NaN   \n527  J001                                               NaN     NaN   \n528  K001                                               NaN     NaN   \n529  L001                                               NaN     NaN   \n\n            al         as           cd          ca           cr           co  \\\n0         3.32        NaN          NaN         181        1.227        0.059   \n1    2.73±0.47        NaN  0.001±0.000    162±15.7  0.092±0.045  0.021±0.005   \n2    2.21±0.78  0.97±0.24  0.003±0.001  27.35±2.16  0.025±0.006  0.030±0.015   \n3          NaN        NaN          NaN  28.64±3.49  0.029±0.009  0.027±0.010   \n4    2.56±0.59  1.53±0.04  0.002±0.002  27.60±3.71  0.010±0.003  0.012±0.007   \n..         ...        ...          ...         ...          ...          ...   \n525        NaN        NaN          NaN         NaN          NaN          NaN   \n526        NaN        NaN          NaN         NaN          NaN          NaN   \n527        NaN        NaN          NaN         NaN          NaN          NaN   \n528        NaN        NaN          NaN         NaN          NaN          NaN   \n529        NaN        NaN          NaN         NaN          NaN          NaN   \n\n            cu  ...                                           name_y regn_y  \\\n0         0.81  ...       Amaranth seed, black (Amaranthus cruentus)    1.0   \n1    0.56±0.09  ...  Amaranth seed, pale brown (Amaranthus cruentus)    6.0   \n2    0.54±0.11  ...                    Bajra (Pennisetum typhoideum)    6.0   \n3    0.43±0.17  ...                         Barley (Hordeum vulgare)    6.0   \n4    0.45±0.11  ...                          Jowar (Sorghum vulgare)    6.0   \n..         ...  ...                                              ...    ...   \n525        NaN  ...                   Strawberry (Fragaria ananassa)    6.0   \n526        NaN  ...                        Beet root (Beta vulgaris)    6.0   \n527        NaN  ...           Button mushroom, fresh (Agaricus sp.)     1.0   \n528        NaN  ...                                           Toddy    10.0   \n529        NaN  ...                             Milk, whole, Buffalo    6.0   \n\n            cho      starch        frus        glus        sucs mals  \\\n0         56.71       55.83         0.1        0.22        0.46  0.1   \n1    60.13±1.30  59.33±1.31   0.10±0.01   0.22±0.04   0.48±0.04  NaN   \n2    56.02±2.57  55.21±2.57   0.21±0.01   0.60±0.02         NaN  NaN   \n3    72.73±2.93  72.67±2.92         NaN   0.06±0.02         NaN  NaN   \n4    60.96±1.70  59.70±1.70   0.57±0.07   0.10±0.01   0.60±0.04  NaN   \n..          ...         ...         ...         ...         ...  ...   \n525   3.66±0.11   0.10±0.01   1.90±0.05   1.60±0.14   0.07±0.03  NaN   \n526   6.04±0.94   1.69±0.43   1.67±0.02   1.46±0.02   1.21±0.03  NaN   \n527         0.8         0.7         0.1         NaN         NaN  NaN   \n528  5.73±0.17          NaN  5.73±0.17          NaN         NaN  NaN   \n529  5.48±0.19          NaN  0.24±0.05   0.39±0.04   0.59±0.06   NaN   \n\n        fsugar    lactose  \n0         0.88        NaN  \n1    0.80±0.07        NaN  \n2    0.81±0.01        NaN  \n3    0.06±0.02        NaN  \n4    1.27±0.05        NaN  \n..         ...        ...  \n525  3.56±0.11        NaN  \n526  4.35±0.02        NaN  \n527        0.1        NaN  \n528  5.73±0.17        NaN  \n529  5.34±0.16  4.12±0.14  \n\n[530 rows x 33 columns]",
      "text/html": "<div>\n<style scoped>\n    .dataframe tbody tr th:only-of-type {\n        vertical-align: middle;\n    }\n\n    .dataframe tbody tr th {\n        vertical-align: top;\n    }\n\n    .dataframe thead th {\n        text-align: right;\n    }\n</style>\n<table border=\"1\" class=\"dataframe\">\n  <thead>\n    <tr style=\"text-align: right;\">\n      <th></th>\n      <th>code</th>\n      <th>name_x</th>\n      <th>regn_x</th>\n      <th>al</th>\n      <th>as</th>\n      <th>cd</th>\n      <th>ca</th>\n      <th>cr</th>\n      <th>co</th>\n      <th>cu</th>\n      <th>...</th>\n      <th>name_y</th>\n      <th>regn_y</th>\n      <th>cho</th>\n      <th>starch</th>\n      <th>frus</th>\n      <th>glus</th>\n      <th>sucs</th>\n      <th>mals</th>\n      <th>fsugar</th>\n      <th>lactose</th>\n    </tr>\n  </thead>\n  <tbody>\n    <tr>\n      <th>0</th>\n      <td>A001</td>\n      <td>Amaranth seed, black (Amaranthus cruentus)</td>\n      <td>1.0</td>\n      <td>3.32</td>\n      <td>NaN</td>\n      <td>NaN</td>\n      <td>181</td>\n      <td>1.227</td>\n      <td>0.059</td>\n      <td>0.81</td>\n      <td>...</td>\n      <td>Amaranth seed, black (Amaranthus cruentus)</td>\n      <td>1.0</td>\n      <td>56.71</td>\n      <td>55.83</td>\n      <td>0.1</td>\n      <td>0.22</td>\n      <td>0.46</td>\n      <td>0.1</td>\n      <td>0.88</td>\n      <td>NaN</td>\n    </tr>\n    <tr>\n      <th>1</th>\n      <td>A002</td>\n      <td>Amaranth seed, pale brown (Amaranthus cruentus)</td>\n      <td>6.0</td>\n      <td>2.73±0.47</td>\n      <td>NaN</td>\n      <td>0.001±0.000</td>\n      <td>162±15.7</td>\n      <td>0.092±0.045</td>\n      <td>0.021±0.005</td>\n      <td>0.56±0.09</td>\n      <td>...</td>\n      <td>Amaranth seed, pale brown (Amaranthus cruentus)</td>\n      <td>6.0</td>\n      <td>60.13±1.30</td>\n      <td>59.33±1.31</td>\n      <td>0.10±0.01</td>\n      <td>0.22±0.04</td>\n      <td>0.48±0.04</td>\n      <td>NaN</td>\n      <td>0.80±0.07</td>\n      <td>NaN</td>\n    </tr>\n    <tr>\n      <th>2</th>\n      <td>A003</td>\n      <td>Bajra (Pennisetum typhoideum)</td>\n      <td>6.0</td>\n      <td>2.21±0.78</td>\n      <td>0.97±0.24</td>\n      <td>0.003±0.001</td>\n      <td>27.35±2.16</td>\n      <td>0.025±0.006</td>\n      <td>0.030±0.015</td>\n      <td>0.54±0.11</td>\n      <td>...</td>\n      <td>Bajra (Pennisetum typhoideum)</td>\n      <td>6.0</td>\n      <td>56.02±2.57</td>\n      <td>55.21±2.57</td>\n      <td>0.21±0.01</td>\n      <td>0.60±0.02</td>\n      <td>NaN</td>\n      <td>NaN</td>\n      <td>0.81±0.01</td>\n      <td>NaN</td>\n    </tr>\n    <tr>\n      <th>3</th>\n      <td>A004</td>\n      <td>Barley (Hordeum vulgare)</td>\n      <td>6.0</td>\n      <td>NaN</td>\n      <td>NaN</td>\n      <td>NaN</td>\n      <td>28.64±3.49</td>\n      <td>0.029±0.009</td>\n      <td>0.027±0.010</td>\n      <td>0.43±0.17</td>\n      <td>...</td>\n      <td>Barley (Hordeum vulgare)</td>\n      <td>6.0</td>\n      <td>72.73±2.93</td>\n      <td>72.67±2.92</td>\n      <td>NaN</td>\n      <td>0.06±0.02</td>\n      <td>NaN</td>\n      <td>NaN</td>\n      <td>0.06±0.02</td>\n      <td>NaN</td>\n    </tr>\n    <tr>\n      <th>4</th>\n      <td>A005</td>\n      <td>Jowar (Sorghum vulgare)</td>\n      <td>6.0</td>\n      <td>2.56±0.59</td>\n      <td>1.53±0.04</td>\n      <td>0.002±0.002</td>\n      <td>27.60±3.71</td>\n      <td>0.010±0.003</td>\n      <td>0.012±0.007</td>\n      <td>0.45±0.11</td>\n      <td>...</td>\n      <td>Jowar (Sorghum vulgare)</td>\n      <td>6.0</td>\n      <td>60.96±1.70</td>\n      <td>59.70±1.70</td>\n      <td>0.57±0.07</td>\n      <td>0.10±0.01</td>\n      <td>0.60±0.04</td>\n      <td>NaN</td>\n      <td>1.27±0.05</td>\n      <td>NaN</td>\n    </tr>\n    <tr>\n      <th>...</th>\n      <td>...</td>\n      <td>...</td>\n      <td>...</td>\n      <td>...</td>\n      <td>...</td>\n      <td>...</td>\n      <td>...</td>\n      <td>...</td>\n      <td>...</td>\n      <td>...</td>\n      <td>...</td>\n      <td>...</td>\n      <td>...</td>\n      <td>...</td>\n      <td>...</td>\n      <td>...</td>\n      <td>...</td>\n      <td>...</td>\n      <td>...</td>\n      <td>...</td>\n      <td>...</td>\n    </tr>\n    <tr>\n      <th>525</th>\n      <td>E063</td>\n      <td>NaN</td>\n      <td>NaN</td>\n      <td>NaN</td>\n      <td>NaN</td>\n      <td>NaN</td>\n      <td>NaN</td>\n      <td>NaN</td>\n      <td>NaN</td>\n      <td>NaN</td>\n      <td>...</td>\n      <td>Strawberry (Fragaria ananassa)</td>\n      <td>6.0</td>\n      <td>3.66±0.11</td>\n      <td>0.10±0.01</td>\n      <td>1.90±0.05</td>\n      <td>1.60±0.14</td>\n      <td>0.07±0.03</td>\n      <td>NaN</td>\n      <td>3.56±0.11</td>\n      <td>NaN</td>\n    </tr>\n    <tr>\n      <th>526</th>\n      <td>F001</td>\n      <td>NaN</td>\n      <td>NaN</td>\n      <td>NaN</td>\n      <td>NaN</td>\n      <td>NaN</td>\n      <td>NaN</td>\n      <td>NaN</td>\n      <td>NaN</td>\n      <td>NaN</td>\n      <td>...</td>\n      <td>Beet root (Beta vulgaris)</td>\n      <td>6.0</td>\n      <td>6.04±0.94</td>\n      <td>1.69±0.43</td>\n      <td>1.67±0.02</td>\n      <td>1.46±0.02</td>\n      <td>1.21±0.03</td>\n      <td>NaN</td>\n      <td>4.35±0.02</td>\n      <td>NaN</td>\n    </tr>\n    <tr>\n      <th>527</th>\n      <td>J001</td>\n      <td>NaN</td>\n      <td>NaN</td>\n      <td>NaN</td>\n      <td>NaN</td>\n      <td>NaN</td>\n      <td>NaN</td>\n      <td>NaN</td>\n      <td>NaN</td>\n      <td>NaN</td>\n      <td>...</td>\n      <td>Button mushroom, fresh (Agaricus sp.)</td>\n      <td>1.0</td>\n      <td>0.8</td>\n      <td>0.7</td>\n      <td>0.1</td>\n      <td>NaN</td>\n      <td>NaN</td>\n      <td>NaN</td>\n      <td>0.1</td>\n      <td>NaN</td>\n    </tr>\n    <tr>\n      <th>528</th>\n      <td>K001</td>\n      <td>NaN</td>\n      <td>NaN</td>\n      <td>NaN</td>\n      <td>NaN</td>\n      <td>NaN</td>\n      <td>NaN</td>\n      <td>NaN</td>\n      <td>NaN</td>\n      <td>NaN</td>\n      <td>...</td>\n      <td>Toddy</td>\n      <td>10.0</td>\n      <td>5.73±0.17</td>\n      <td>NaN</td>\n      <td>5.73±0.17</td>\n      <td>NaN</td>\n      <td>NaN</td>\n      <td>NaN</td>\n      <td>5.73±0.17</td>\n      <td>NaN</td>\n    </tr>\n    <tr>\n      <th>529</th>\n      <td>L001</td>\n      <td>NaN</td>\n      <td>NaN</td>\n      <td>NaN</td>\n      <td>NaN</td>\n      <td>NaN</td>\n      <td>NaN</td>\n      <td>NaN</td>\n      <td>NaN</td>\n      <td>NaN</td>\n      <td>...</td>\n      <td>Milk, whole, Buffalo</td>\n      <td>6.0</td>\n      <td>5.48±0.19</td>\n      <td>NaN</td>\n      <td>0.24±0.05</td>\n      <td>0.39±0.04</td>\n      <td>0.59±0.06</td>\n      <td>NaN</td>\n      <td>5.34±0.16</td>\n      <td>4.12±0.14</td>\n    </tr>\n  </tbody>\n</table>\n<p>530 rows × 33 columns</p>\n</div>"
     },
     "execution_count": 10,
     "metadata": {},
     "output_type": "execute_result"
    }
   ],
   "source": [
    "table_merged_master"
   ],
   "metadata": {
    "collapsed": false,
    "pycharm": {
     "name": "#%%\n"
    }
   }
  },
  {
   "cell_type": "code",
   "execution_count": 10,
   "outputs": [],
   "source": [],
   "metadata": {
    "collapsed": false,
    "pycharm": {
     "name": "#%%\n"
    }
   }
  }
 ],
 "metadata": {
  "kernelspec": {
   "display_name": "Python 3",
   "language": "python",
   "name": "python3"
  },
  "language_info": {
   "codemirror_mode": {
    "name": "ipython",
    "version": 2
   },
   "file_extension": ".py",
   "mimetype": "text/x-python",
   "name": "python",
   "nbconvert_exporter": "python",
   "pygments_lexer": "ipython2",
   "version": "2.7.6"
  }
 },
 "nbformat": 4,
 "nbformat_minor": 0
}